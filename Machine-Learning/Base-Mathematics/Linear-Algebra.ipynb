{
 "cells": [
  {
   "cell_type": "code",
   "execution_count": 1,
   "metadata": {},
   "outputs": [],
   "source": [
    "import numpy as np\n",
    "\n",
    "W = np.random.randint(1,9, size = (2, 3)) # neurons, weights\n",
    "X = np.random.randint(1,9, size = (3, 4)) # samples, features"
   ]
  },
  {
   "cell_type": "markdown",
   "metadata": {},
   "source": [
    "## Dot Product"
   ]
  },
  {
   "cell_type": "code",
   "execution_count": 2,
   "metadata": {},
   "outputs": [
    {
     "name": "stdout",
     "output_type": "stream",
     "text": [
      "Weights:\n",
      "[[3 5 7]\n",
      " [3 3 2]]\n",
      "Inputs:\n",
      "[[6 8 3 8]\n",
      " [6 5 7 3]\n",
      " [3 3 6 8]] \n",
      "\n",
      "[[3 3]\n",
      " [5 3]\n",
      " [7 2]] \n",
      " * \n",
      " [[6 8 3 8]\n",
      " [6 5 7 3]\n",
      " [3 3 6 8]]\n"
     ]
    }
   ],
   "source": [
    "print(\"Weights:\")\n",
    "print(W)\n",
    "\n",
    "print(\"Inputs:\")\n",
    "print(f\"{X} \\n\")\n",
    "\n",
    "print(f\"{W.T} \\n * \\n {X}\")"
   ]
  },
  {
   "cell_type": "code",
   "execution_count": 36,
   "metadata": {},
   "outputs": [
    {
     "name": "stdout",
     "output_type": "stream",
     "text": [
      "[[34 50 17 33]\n",
      " [31 20 15 25]]\n"
     ]
    }
   ],
   "source": [
    "print(np.dot(W, X))"
   ]
  },
  {
   "cell_type": "markdown",
   "metadata": {},
   "source": [
    "The cell below doesn't work out as the number of columns in matrix $X$ doesn't match with the number of rows in matrix $W$"
   ]
  },
  {
   "cell_type": "code",
   "execution_count": 44,
   "metadata": {},
   "outputs": [
    {
     "ename": "ValueError",
     "evalue": "shapes (3,4) and (2,3) not aligned: 4 (dim 1) != 2 (dim 0)",
     "output_type": "error",
     "traceback": [
      "\u001b[0;31m---------------------------------------------------------------------------\u001b[0m",
      "\u001b[0;31mValueError\u001b[0m                                Traceback (most recent call last)",
      "Cell \u001b[0;32mIn[44], line 1\u001b[0m\n\u001b[0;32m----> 1\u001b[0m \u001b[38;5;28mprint\u001b[39m(np\u001b[38;5;241m.\u001b[39mdot(X, W))\n",
      "\u001b[0;31mValueError\u001b[0m: shapes (3,4) and (2,3) not aligned: 4 (dim 1) != 2 (dim 0)"
     ]
    }
   ],
   "source": [
    "print(np.dot(X, W))"
   ]
  }
 ],
 "metadata": {
  "kernelspec": {
   "display_name": "base",
   "language": "python",
   "name": "python3"
  },
  "language_info": {
   "codemirror_mode": {
    "name": "ipython",
    "version": 3
   },
   "file_extension": ".py",
   "mimetype": "text/x-python",
   "name": "python",
   "nbconvert_exporter": "python",
   "pygments_lexer": "ipython3",
   "version": "3.11.7"
  }
 },
 "nbformat": 4,
 "nbformat_minor": 2
}
