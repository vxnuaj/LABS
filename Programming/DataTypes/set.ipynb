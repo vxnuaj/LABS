{
 "cells": [
  {
   "cell_type": "markdown",
   "metadata": {},
   "source": [
    "In sets, \n",
    "\n",
    "1. \"|\" finds the union between sets. Combines them\n",
    "\n",
    "2. \"-\" finds the difference between sets. Difference in A from B (if A - B)\n",
    "\n",
    "3. \"&\" finds the intersection between sets. Finds the numbers that are the same.\n",
    "\n",
    "4. \"^\" finds the symmetric difference between sets. Finds all the numbers that exist in 1 set but not the other"
   ]
  },
  {
   "cell_type": "markdown",
   "metadata": {},
   "source": [
    "Problem Statement: Common Elements\n",
    "\n",
    "You are given two lists of numbers: [1, 2, 3, 4, 5] and [4, 5, 6, 7, 8]. Your task is to create sets from these lists and find the common elements between them.\n",
    "\n",
    "1. Create sets from the given lists.\n",
    "\n",
    "2. Find the common elements between the two sets.\n",
    "\n",
    "3. You can write a Python program to solve this problem."
   ]
  },
  {
   "cell_type": "code",
   "execution_count": 6,
   "metadata": {},
   "outputs": [
    {
     "name": "stdout",
     "output_type": "stream",
     "text": [
      "{4, 5}\n"
     ]
    }
   ],
   "source": [
    "list1 = [1,2,3,4,5]\n",
    "list2 = [4, 5, 6, 7, 8]\n",
    "\n",
    "set1 = set(list1)\n",
    "set2 = set(list2)\n",
    "\n",
    "print(set1 & set2)"
   ]
  },
  {
   "cell_type": "markdown",
   "metadata": {},
   "source": [
    "add a number to set {1,2 ,3, 4}. Then remove it"
   ]
  },
  {
   "cell_type": "code",
   "execution_count": 43,
   "metadata": {},
   "outputs": [
    {
     "name": "stdout",
     "output_type": "stream",
     "text": [
      "{1, 2, 3, 4, 7}\n",
      "{1, 2, 3, 4}\n"
     ]
    }
   ],
   "source": [
    "set1 = {1, 2, 3, 4}\n",
    "\n",
    "set1.add(7)\n",
    "\n",
    "print(set1)\n",
    "\n",
    "set1.remove(7)\n",
    "\n",
    "print(set1)"
   ]
  },
  {
   "cell_type": "markdown",
   "metadata": {},
   "source": [
    "You are given two sets of numbers: {1, 2, 3, 4, 5} and {4, 5, 6, 7, 8}. Your task is to find the symmetric difference between these two sets.\n",
    "\n",
    "1. Create sets from the given sets of numbers.\n",
    "2. Find the symmetric difference between the two sets.\n",
    "3. You can write a Python program to solve this problem."
   ]
  },
  {
   "cell_type": "code",
   "execution_count": 8,
   "metadata": {},
   "outputs": [
    {
     "name": "stdout",
     "output_type": "stream",
     "text": [
      "{1, 2, 3}\n",
      "{1, 2, 3, 6, 7, 8}\n"
     ]
    }
   ],
   "source": [
    "set1 = {1,2,3,4,5}\n",
    "set2 = {4,5,6,7,8}\n",
    "\n",
    "#print(set1 - set2) #WRONG\n",
    "print(set1 ^ set2)\n",
    "\n",
    "# Note to self, symmetric difference is different from regular differnce (-)\n",
    "# It's the elements that are in either set1 and set2 but not both.\n",
    "# While the regular difference elements in a but not in b (given a - b)"
   ]
  },
  {
   "cell_type": "markdown",
   "metadata": {},
   "source": [
    "Problem Statement: Set Operations\n",
    "\n",
    "You are given three sets of numbers: {1, 2, 3, 4, 5}, {4, 5, 6, 7, 8}, and {5, 6, 7, 8, 9}. Your task is to perform the following set operations:\n",
    "\n",
    "1. Find the union of all three sets.\n",
    "\n",
    "2. Find the intersection of the first two sets.\n",
    "\n",
    "3. Find the difference between the first set and the intersection of the other two sets."
   ]
  },
  {
   "cell_type": "code",
   "execution_count": 16,
   "metadata": {},
   "outputs": [
    {
     "name": "stdout",
     "output_type": "stream",
     "text": [
      "union {1, 2, 3, 4, 5, 6, 7, 8, 9}\n",
      "difference {1, 2, 3, 4}\n"
     ]
    }
   ],
   "source": [
    "set1 = {1, 2, 3, 4, 5}\n",
    "set2 = {4, 5, 6, 7, 8}\n",
    "set3 = {5, 6, 7, 8, 9}\n",
    "\n",
    "print(\"union\", set1 | set2 | set3)\n",
    "print(\"difference\", set1 - (set2 & set3))\n"
   ]
  },
  {
   "cell_type": "markdown",
   "metadata": {},
   "source": [
    "Problem Statement: Set Symmetric Difference\n",
    "\n",
    "You are given three sets of numbers: {1, 2, 3, 4, 5}, {4, 5, 6, 7, 8}, and {5, 6, 7, 8, 9}. Your task is to find the symmetric difference between these three sets.\n",
    "\n",
    "Find the symmetric difference between the three sets."
   ]
  },
  {
   "cell_type": "code",
   "execution_count": 17,
   "metadata": {},
   "outputs": [
    {
     "name": "stdout",
     "output_type": "stream",
     "text": [
      "{1, 2, 3, 5, 9}\n"
     ]
    }
   ],
   "source": [
    "set1  = {1,2,3,4,5}\n",
    "set2 = {4,5,6,7,8}\n",
    "set3 = {5,6,7,8,9}\n",
    "\n",
    "print(set1 ^ set2 ^ set3)"
   ]
  },
  {
   "cell_type": "markdown",
   "metadata": {},
   "source": [
    "Problem Statement: Set Operations\n",
    "\n",
    "You are given four sets of numbers: {1, 2, 3, 4, 5}, {4, 5, 6, 7, 8}, {5, 6, 7, 8, 9}, and {8, 9, 10, 11, 12}. Your task is to perform the following set operations:\n",
    "\n",
    "1. Find the union of all four sets.\n",
    "2. Find the intersection of the first two sets.\n",
    "3. Find the difference between the first set and the intersection of the other three sets.\n",
    "4. Find the symmetric difference between the four sets."
   ]
  },
  {
   "cell_type": "code",
   "execution_count": 20,
   "metadata": {},
   "outputs": [
    {
     "name": "stdout",
     "output_type": "stream",
     "text": [
      "{1, 2, 3, 4, 5, 6, 7, 8, 9, 10, 11, 12}\n",
      "set()\n",
      "{1, 2, 3, 4, 5}\n",
      "{1, 2, 3, 5, 8, 10, 11, 12}\n"
     ]
    }
   ],
   "source": [
    "set1  = {1,2,3,4,5}\n",
    "set2 = {4,5,6,7,8}\n",
    "set3 = {5,6,7,8,9}\n",
    "set4 = {8, 9, 10, 11, 12}\n",
    "\n",
    "print(set1 | set2 | set3 | set4)\n",
    "print(set1 & set2 & set3 & set4)\n",
    "print(set1 - (set2 & set3 & set4))\n",
    "print(set1 ^ set2 ^ set3  ^ set4)"
   ]
  },
  {
   "cell_type": "markdown",
   "metadata": {},
   "source": [
    "Problem Statement: Set Operations\n",
    "\n",
    "You are given five sets of numbers: {1, 2, 3, 4, 5}, {4, 5, 6, 7, 8}, {5, 6, 7, 8, 9}, {8, 9, 10, 11, 12}, and {10, 11, 12, 13, 14}. Your task is to perform the following set operations:\n",
    "\n",
    "1. Find the union of all five sets.\n",
    "2. Find the intersection of the first three sets.\n",
    "3. Find the difference between the first set and the intersection of the other four sets.\n",
    "4. Find the symmetric difference between the five sets."
   ]
  },
  {
   "cell_type": "code",
   "execution_count": 22,
   "metadata": {},
   "outputs": [
    {
     "name": "stdout",
     "output_type": "stream",
     "text": [
      "union {1, 2, 3, 4, 5, 6, 7, 8, 9, 10, 11, 12, 13, 14}\n",
      "intersection {5}\n",
      "dif and intersection {1, 2, 3, 4, 5}\n",
      "symdif {1, 2, 3, 5, 8, 13, 14}\n"
     ]
    }
   ],
   "source": [
    "set1  = {1,2,3,4,5}\n",
    "set2 = {4,5,6,7,8}\n",
    "set3 = {5,6,7,8,9}\n",
    "set4 = {8, 9, 10, 11, 12}\n",
    "set5 = {10, 11, 12, 13, 14}\n",
    "\n",
    "print(f\"union {set1 | set2 | set3 | set4 | set5}\")\n",
    "print(f\"intersection {set1 & set2 & set3}\")\n",
    "print(f\"dif and intersection {set1 - (set2 & set3 & set4 & set5)}\")\n",
    "print(f\"symdif {set1 ^ set2 ^ set3 ^ set4 ^ set5}\")\n",
    "\n"
   ]
  },
  {
   "cell_type": "markdown",
   "metadata": {},
   "source": [
    "Problem Statement: Data Deduplication\n",
    "\n",
    "You are given three datasets, each represented as a list of integers. Some integers may be duplicated across the datasets. Your task is to deduplicate the data by converting each dataset into a set and then combining these sets to create a single set containing all unique integers.\n",
    "\n",
    "Convert each dataset into a set to remove duplicates.\n",
    "Combine these sets to create a single set containing all unique integers.\n",
    "Print the final set.\n",
    "For example, if the datasets are:\n",
    "\n",
    "\n",
    "dataset1 = [1, 2, 3, 4, 5]\n",
    "dataset2 = [4, 5, 6, 7, 8]\n",
    "dataset3 = [5, 6, 7, 8, 9]\n",
    "\n",
    "The output should be:\n",
    "{1, 2, 3, 4, 5, 6, 7, 8, 9}"
   ]
  },
  {
   "cell_type": "code",
   "execution_count": 33,
   "metadata": {},
   "outputs": [
    {
     "name": "stdout",
     "output_type": "stream",
     "text": [
      "{1, 2, 3, 4, 5, 6, 7, 8, 9}\n"
     ]
    }
   ],
   "source": [
    "dataset1 = [1,2,3,4,5,6]\n",
    "dataset2 = [4,5,6,7,8]\n",
    "dataset3 = [5,6,7,8,9]\n",
    "\n",
    "set1 = set(dataset1) | set(dataset2) | set(dataset3)\n",
    "2\n",
    "print(set1)\n",
    "\n",
    "# note to self. use \"|\" to get uniqeu elements of sets, rather than appending lists and then building a set."
   ]
  },
  {
   "cell_type": "code",
   "execution_count": null,
   "metadata": {},
   "outputs": [],
   "source": [
    "'''Problem Statement: Set Operations with Complex Data\n",
    "\n",
    "You are given a list of dictionaries, where each dictionary represents a person with their name and age. Your task is to perform the following set operations:\n",
    "\n",
    "Find the set of names of people who are older than 30 years old.\n",
    "Find the set of names of people who are younger than 20 years old.\n",
    "Find the set of names of people whose names start with the letter 'A'.\n",
    "Find the set of names of people whose names end with the letter 'a'.\n",
    "You can write a Python program to solve this problem. \n",
    "\n",
    "Here's a sample dataset:\n",
    "\n",
    "people = [\n",
    "    {'name': 'Alice', 'age': 25},\n",
    "    {'name': 'Bob', 'age': 30},\n",
    "    {'name': 'Charlie', 'age': 35},\n",
    "    {'name': 'David', 'age': 40},\n",
    "    {'name': 'Eve', 'age': 45},\n",
    "    {'name': 'Frank', 'age': 50},\n",
    "    {'name': 'Grace', 'age': 55},\n",
    "    {'name': 'Heidi', 'age': 60},\n",
    "    {'name': 'Ivan', 'age': 65},\n",
    "    {'name': 'Jack', 'age': 70}\n",
    "]'''"
   ]
  },
  {
   "cell_type": "code",
   "execution_count": 39,
   "metadata": {},
   "outputs": [
    {
     "name": "stdout",
     "output_type": "stream",
     "text": [
      "Older than 30 Charlie\n",
      "Older than 30 David\n",
      "Older than 30 Eve\n",
      "Older than 30 Frank\n",
      "Older than 30 Grace\n",
      "Older than 30 Heidi\n",
      "Older than 30 Ivan\n",
      "Older than 30 Jack\n",
      "Name starts with A Alice\n"
     ]
    }
   ],
   "source": [
    "people = [\n",
    "    {'name': 'Alice', 'age': 25},\n",
    "    {'name': 'Bob', 'age': 30},\n",
    "    {'name': 'Charlie', 'age': 35},\n",
    "    {'name': 'David', 'age': 40},\n",
    "    {'name': 'Eve', 'age': 45},\n",
    "    {'name': 'Frank', 'age': 50},\n",
    "    {'name': 'Grace', 'age': 55},\n",
    "    {'name': 'Heidi', 'age': 60},\n",
    "    {'name': 'Ivan', 'age': 65},\n",
    "    {'name': 'Jack', 'age': 70}\n",
    "]\n",
    "\n",
    "\n",
    "for i in people:\n",
    "    if i['age'] > 30:\n",
    "        print(f\"Older than 30 {i['name']}\")\n",
    "\n",
    "for i in people:\n",
    "    if i['age'] < 20:\n",
    "        print(f\"Younger than 20 {i['name']}\")\n",
    "\n",
    "for i in people:\n",
    "    if i['name'].startswith('A'):\n",
    "        print(f\"Name starts with A {i['name']}\")\n",
    "\n",
    "for i in people:\n",
    "    if i['name'].endswith(\"a\"):\n",
    "        print(f\"Name ends with a {i['name']}\")"
   ]
  }
 ],
 "metadata": {
  "kernelspec": {
   "display_name": "base",
   "language": "python",
   "name": "python3"
  },
  "language_info": {
   "codemirror_mode": {
    "name": "ipython",
    "version": 3
   },
   "file_extension": ".py",
   "mimetype": "text/x-python",
   "name": "python",
   "nbconvert_exporter": "python",
   "pygments_lexer": "ipython3",
   "version": "3.12.2"
  }
 },
 "nbformat": 4,
 "nbformat_minor": 2
}
