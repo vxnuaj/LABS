{
 "cells": [
  {
   "cell_type": "code",
   "execution_count": 167,
   "metadata": {},
   "outputs": [],
   "source": [
    "import pandas as pd\n",
    "import numpy as np"
   ]
  },
  {
   "cell_type": "code",
   "execution_count": 168,
   "metadata": {},
   "outputs": [
    {
     "name": "stdout",
     "output_type": "stream",
     "text": [
      "        Character  Power Level      Species\n",
      "hero         Goku   1500000000       Saiyan\n",
      "hero       Vegeta   1400000000       Saiyan\n",
      "villain    Frieza   1200000000  Frieza Race\n",
      "hero      Piccolo   1000000000     Namekian\n"
     ]
    }
   ],
   "source": [
    "data = {\n",
    "    'Character': ['Goku', 'Vegeta', 'Frieza', 'Piccolo'],\n",
    "    'Power Level': [1500000000, 1400000000, 1200000000, 1000000000],\n",
    "    'Species': ['Saiyan', 'Saiyan', 'Frieza Race', 'Namekian']\n",
    "}\n",
    "\n",
    "df = pd.DataFrame(data, index = ['hero', 'hero', 'villain', 'hero'])\n",
    "print(df)"
   ]
  },
  {
   "cell_type": "markdown",
   "metadata": {},
   "source": [
    "DataFrame.index creates a RangeIndex object where it represents indices from range 0 to n where n is the total rows in the dataframe. Here, you can only get the indices by indexing the RangeIndex object indivdually or slicing it.\n",
    "\n",
    "But if the indices are non-default, meaning it has custom attributes, DataFrame.index represents an Index object. Here you can directly visualize the index values by the variable DataFrame.index itself."
   ]
  },
  {
   "cell_type": "code",
   "execution_count": 169,
   "metadata": {},
   "outputs": [
    {
     "name": "stdout",
     "output_type": "stream",
     "text": [
      "Index(['hero', 'hero', 'villain', 'hero'], dtype='object')\n"
     ]
    }
   ],
   "source": [
    "# print([i for i in df.index]) # for default index values or custom values for a more clean look.\n",
    "print(df.index) # for custom index values"
   ]
  },
  {
   "cell_type": "markdown",
   "metadata": {},
   "source": [
    "we can reset indices and set the old indices to a column as this:"
   ]
  },
  {
   "cell_type": "code",
   "execution_count": 170,
   "metadata": {},
   "outputs": [
    {
     "name": "stdout",
     "output_type": "stream",
     "text": [
      "  archetype Character  Power Level      Species\n",
      "0      hero      Goku   1500000000       Saiyan\n",
      "1      hero    Vegeta   1400000000       Saiyan\n",
      "2   villain    Frieza   1200000000  Frieza Race\n",
      "3      hero   Piccolo   1000000000     Namekian\n"
     ]
    }
   ],
   "source": [
    "df = df.reset_index()\n",
    "df = df.rename(columns={'index':'archetype'})\n",
    "print(df)"
   ]
  },
  {
   "cell_type": "code",
   "execution_count": 171,
   "metadata": {},
   "outputs": [
    {
     "name": "stdout",
     "output_type": "stream",
     "text": [
      "  archetype Character  Power Level      Species\n",
      "2      hero      Goku   1500000000       Saiyan\n",
      "3      hero    Vegeta   1400000000       Saiyan\n",
      "4   villain    Frieza   1200000000  Frieza Race\n",
      "5      hero   Piccolo   1000000000     Namekian\n"
     ]
    }
   ],
   "source": [
    "df = df.set_index(np.array([i + 2 for i in df.index]))\n",
    "\n",
    "print(df)"
   ]
  },
  {
   "cell_type": "code",
   "execution_count": 172,
   "metadata": {},
   "outputs": [
    {
     "name": "stdout",
     "output_type": "stream",
     "text": [
      "        Character  Power Level      Species\n",
      "hero         Goku   1500000000       Saiyan\n",
      "hero       Vegeta   1400000000       Saiyan\n",
      "villain    Frieza   1200000000  Frieza Race\n",
      "hero      Piccolo   1000000000     Namekian\n"
     ]
    }
   ],
   "source": [
    "df.set_index('archetype', inplace=True)\n",
    "df.index.name = None\n",
    "print(df)"
   ]
  },
  {
   "cell_type": "code",
   "execution_count": 173,
   "metadata": {},
   "outputs": [
    {
     "name": "stdout",
     "output_type": "stream",
     "text": [
      "unsorted\n",
      "  Character  Power Level      Species\n",
      "4      Goku   1500000000       Saiyan\n",
      "2    Vegeta   1400000000       Saiyan\n",
      "3    Frieza   1200000000  Frieza Race\n",
      "1   Piccolo   1000000000     Namekian\n",
      "\n",
      "sorted\n",
      "  Character  Power Level      Species\n",
      "1   Piccolo   1000000000     Namekian\n",
      "2    Vegeta   1400000000       Saiyan\n",
      "3    Frieza   1200000000  Frieza Race\n",
      "4      Goku   1500000000       Saiyan\n",
      "\n",
      "by power level\n",
      "  Character  Power Level      Species\n",
      "4      Goku   1500000000       Saiyan\n",
      "2    Vegeta   1400000000       Saiyan\n",
      "3    Frieza   1200000000  Frieza Race\n",
      "1   Piccolo   1000000000     Namekian\n"
     ]
    }
   ],
   "source": [
    "df.index = [4, 2, 3, 1]\n",
    "print(f'unsorted\\n{df}\\n')\n",
    "print(f'sorted\\n{df.sort_index()}\\n')\n",
    "print(f'by power level\\n{df.sort_values(by = ['Power Level'], axis = 0, ascending = False)}')"
   ]
  },
  {
   "cell_type": "code",
   "execution_count": 174,
   "metadata": {},
   "outputs": [
    {
     "data": {
      "text/html": [
       "<div>\n",
       "<style scoped>\n",
       "    .dataframe tbody tr th:only-of-type {\n",
       "        vertical-align: middle;\n",
       "    }\n",
       "\n",
       "    .dataframe tbody tr th {\n",
       "        vertical-align: top;\n",
       "    }\n",
       "\n",
       "    .dataframe thead th {\n",
       "        text-align: right;\n",
       "    }\n",
       "</style>\n",
       "<table border=\"1\" class=\"dataframe\">\n",
       "  <thead>\n",
       "    <tr style=\"text-align: right;\">\n",
       "      <th></th>\n",
       "      <th>Character</th>\n",
       "      <th>Power Level</th>\n",
       "      <th>Species</th>\n",
       "    </tr>\n",
       "  </thead>\n",
       "  <tbody>\n",
       "    <tr>\n",
       "      <th>4</th>\n",
       "      <td>Goku</td>\n",
       "      <td>1500000000</td>\n",
       "      <td>Saiyan</td>\n",
       "    </tr>\n",
       "    <tr>\n",
       "      <th>2</th>\n",
       "      <td>Vegeta</td>\n",
       "      <td>1400000000</td>\n",
       "      <td>Saiyan</td>\n",
       "    </tr>\n",
       "  </tbody>\n",
       "</table>\n",
       "</div>"
      ],
      "text/plain": [
       "  Character  Power Level Species\n",
       "4      Goku   1500000000  Saiyan\n",
       "2    Vegeta   1400000000  Saiyan"
      ]
     },
     "execution_count": 174,
     "metadata": {},
     "output_type": "execute_result"
    }
   ],
   "source": [
    "df.query('`Power Level` > 1100000000 and Species == \"Saiyan\"')"
   ]
  },
  {
   "cell_type": "code",
   "execution_count": 175,
   "metadata": {},
   "outputs": [
    {
     "data": {
      "text/html": [
       "<div>\n",
       "<style scoped>\n",
       "    .dataframe tbody tr th:only-of-type {\n",
       "        vertical-align: middle;\n",
       "    }\n",
       "\n",
       "    .dataframe tbody tr th {\n",
       "        vertical-align: top;\n",
       "    }\n",
       "\n",
       "    .dataframe thead th {\n",
       "        text-align: right;\n",
       "    }\n",
       "</style>\n",
       "<table border=\"1\" class=\"dataframe\">\n",
       "  <thead>\n",
       "    <tr style=\"text-align: right;\">\n",
       "      <th></th>\n",
       "      <th>Character</th>\n",
       "      <th>Power Level</th>\n",
       "      <th>Species</th>\n",
       "    </tr>\n",
       "  </thead>\n",
       "  <tbody>\n",
       "    <tr>\n",
       "      <th>4</th>\n",
       "      <td>Goku</td>\n",
       "      <td>1500000000</td>\n",
       "      <td>Saiyan</td>\n",
       "    </tr>\n",
       "    <tr>\n",
       "      <th>2</th>\n",
       "      <td>Vegeta</td>\n",
       "      <td>1400000000</td>\n",
       "      <td>Saiyan</td>\n",
       "    </tr>\n",
       "  </tbody>\n",
       "</table>\n",
       "</div>"
      ],
      "text/plain": [
       "  Character  Power Level Species\n",
       "4      Goku   1500000000  Saiyan\n",
       "2    Vegeta   1400000000  Saiyan"
      ]
     },
     "execution_count": 175,
     "metadata": {},
     "output_type": "execute_result"
    }
   ],
   "source": [
    "df[(df['Power Level'] > 1100000000) & (df['Species'] == 'Saiyan')]"
   ]
  },
  {
   "cell_type": "code",
   "execution_count": 176,
   "metadata": {},
   "outputs": [
    {
     "name": "stdout",
     "output_type": "stream",
     "text": [
      "Original Array\n",
      "\n",
      "     0    1    2\n",
      "0  1.0  NaN  2.0\n",
      "1  NaN  NaN  5.0\n",
      "2  9.0  3.0  4.0\n",
      "\n",
      "Null Array\n",
      "\n",
      "       0      1      2\n",
      "0  False   True  False\n",
      "1   True   True  False\n",
      "2  False  False  False\n",
      "\n",
      "Not Null Array\n",
      "\n",
      "       0      1     2\n",
      "0   True  False  True\n",
      "1  False  False  True\n",
      "2   True   True  True\n"
     ]
    }
   ],
   "source": [
    "arr = np.array([[1, np.nan, 2], [np.nan, np.nan, 5], [9, 3, 4]])\n",
    "df = pd.DataFrame(arr)\n",
    "\n",
    "print('Original Array')\n",
    "print()\n",
    "print(df)\n",
    "print()\n",
    "print(f\"Null Array\")\n",
    "print()\n",
    "print(df.isna())\n",
    "print()\n",
    "print(f'Not Null Array')\n",
    "print()\n",
    "print(df.notna())"
   ]
  },
  {
   "cell_type": "code",
   "execution_count": 177,
   "metadata": {},
   "outputs": [
    {
     "name": "stdout",
     "output_type": "stream",
     "text": [
      "       0      1    2\n",
      "0    1.0  ding!  2.0\n",
      "1  ding!  ding!  5.0\n",
      "2    9.0    3.0  4.0\n"
     ]
    }
   ],
   "source": [
    "print(df.fillna(value = 'ding!'))"
   ]
  },
  {
   "cell_type": "code",
   "execution_count": 185,
   "metadata": {},
   "outputs": [
    {
     "name": "stdout",
     "output_type": "stream",
     "text": [
      "drops all rows that have nan values\n",
      "     0    1    2\n",
      "2  9.0  3.0  4.0\n",
      "\n",
      "drops all columns that have nan values\n",
      "     2\n",
      "0  2.0\n",
      "1  5.0\n",
      "2  4.0\n"
     ]
    }
   ],
   "source": [
    "print('drops all rows that have nan values')\n",
    "print(df.dropna(ignore_index=False)) # ignores and reassigns index labels.\n",
    "print()\n",
    "print('drops all columns that have nan values')\n",
    "print(df.dropna(axis=1))"
   ]
  }
 ],
 "metadata": {
  "kernelspec": {
   "display_name": "base",
   "language": "python",
   "name": "python3"
  },
  "language_info": {
   "codemirror_mode": {
    "name": "ipython",
    "version": 3
   },
   "file_extension": ".py",
   "mimetype": "text/x-python",
   "name": "python",
   "nbconvert_exporter": "python",
   "pygments_lexer": "ipython3",
   "version": "3.12.2"
  }
 },
 "nbformat": 4,
 "nbformat_minor": 2
}
