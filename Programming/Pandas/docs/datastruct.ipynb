{
 "cells": [
  {
   "cell_type": "code",
   "execution_count": 735,
   "metadata": {},
   "outputs": [],
   "source": [
    "import numpy as np\n",
    "import pandas as pd"
   ]
  },
  {
   "cell_type": "markdown",
   "metadata": {},
   "source": [
    "## SERIES"
   ]
  },
  {
   "cell_type": "code",
   "execution_count": 736,
   "metadata": {},
   "outputs": [
    {
     "name": "stdout",
     "output_type": "stream",
     "text": [
      "0    1.0\n",
      "1    3.0\n",
      "2    5.0\n",
      "3    NaN\n",
      "4    6.0\n",
      "5    8.0\n",
      "dtype: float64\n"
     ]
    }
   ],
   "source": [
    "s = pd.Series([1, 3, 5, np.nan, 6, 8])\n",
    "\n",
    "print(s)"
   ]
  },
  {
   "cell_type": "markdown",
   "metadata": {},
   "source": [
    "Creating a series based on a dict. \n",
    "\n",
    "If the passed index contains values not in the keys of the dict, than the passed data of the new series will have NaN values for the new indices.\n",
    "\n",
    "The series only contains values that match the keys() and index. The rest are excluded, new indices have values that are set as NaN"
   ]
  },
  {
   "cell_type": "code",
   "execution_count": 737,
   "metadata": {},
   "outputs": [
    {
     "name": "stdout",
     "output_type": "stream",
     "text": [
      "{'goku': 10000, 'piccolo': 8000, 'gohan': 6000} \n",
      "\n",
      "goku       10000\n",
      "piccolo     8000\n",
      "gohan       6000\n",
      "dtype: int64\n",
      "\n",
      "Index: Index(['goku', 'piccolo', 'gohan'], dtype='object')\n",
      "\n",
      "goku       10000.0\n",
      "piccolo     8000.0\n",
      "gohan       6000.0\n",
      "beerus         NaN\n",
      "dtype: float64\n",
      "\n",
      "Index: Index(['goku', 'piccolo', 'gohan', 'beerus'], dtype='object')\n",
      "\n",
      "goku      NaN\n",
      "piccolo   NaN\n",
      "gohan     NaN\n",
      "beerus    NaN\n",
      "dtype: float64\n",
      "\n",
      "Index: Index(['goku', 'piccolo', 'gohan', 'beerus'], dtype='object')\n"
     ]
    }
   ],
   "source": [
    "power_levels = {'goku': 10000, 'piccolo': 8000, 'gohan': 6000}\n",
    "print(power_levels, '\\n')\n",
    "s = pd.Series(power_levels, )\n",
    "print(s)\n",
    "print(f\"\\nIndex: {s.index}\\n\")\n",
    "\n",
    "power_levels = {'goku': 10000, 'piccolo': 8000, 'gohan': 6000}\n",
    "s = pd.Series(power_levels, index = ['goku', 'piccolo', 'gohan', 'beerus'])\n",
    "print(s)\n",
    "print(f\"\\nIndex: {s.index}\\n\")\n",
    "\n",
    "power_levels = {1: 10000, 2: 8000, 3: 6000}\n",
    "s = pd.Series(power_levels, index = ['goku', 'piccolo', 'gohan', 'beerus'])\n",
    "print(s)\n",
    "print(f\"\\nIndex: {s.index}\")"
   ]
  },
  {
   "cell_type": "markdown",
   "metadata": {},
   "source": [
    "Creating a series based on ndarrays"
   ]
  },
  {
   "cell_type": "code",
   "execution_count": 738,
   "metadata": {},
   "outputs": [
    {
     "name": "stdout",
     "output_type": "stream",
     "text": [
      "10    1\n",
      "11    2\n",
      "12    3\n",
      "13    2\n",
      "14    3\n",
      "15    4\n",
      "dtype: int64\n"
     ]
    }
   ],
   "source": [
    "arr = np.array([1, 2, 3, 2, 3, 4])\n",
    "# s = pd.Series(arr, index = [1, 2, 3]) # error because length of index vals do not match than len(arr)\n",
    "s = pd.Series(arr, index = [10, 11, 12, 13, 14, 15])\n",
    "print(s)"
   ]
  },
  {
   "cell_type": "markdown",
   "metadata": {},
   "source": [
    "Series based on scalar values.\n",
    "\n",
    "Adding multiple index vals to a single scalar extends the scalar to the indices in the series."
   ]
  },
  {
   "cell_type": "code",
   "execution_count": 739,
   "metadata": {},
   "outputs": [
    {
     "name": "stdout",
     "output_type": "stream",
     "text": [
      "1    1.0\n",
      "2    1.0\n",
      "3    1.0\n",
      "dtype: float64\n"
     ]
    }
   ],
   "source": [
    "s = pd.Series(1.0, index = [1, 2, 3])\n",
    "print(s)"
   ]
  },
  {
   "cell_type": "markdown",
   "metadata": {},
   "source": [
    "You can also create Series based on list objects"
   ]
  },
  {
   "cell_type": "code",
   "execution_count": 740,
   "metadata": {},
   "outputs": [
    {
     "data": {
      "text/plain": [
       "V    0\n",
       "W    1\n",
       "X    2\n",
       "Y    3\n",
       "Z    4\n",
       "Name: series!, dtype: int64"
      ]
     },
     "execution_count": 740,
     "metadata": {},
     "output_type": "execute_result"
    }
   ],
   "source": [
    "series = pd.Series(data = range(5), index = list('VWXYZ'), name = 'series!')\n",
    "series"
   ]
  },
  {
   "cell_type": "code",
   "execution_count": 741,
   "metadata": {},
   "outputs": [
    {
     "name": "stdout",
     "output_type": "stream",
     "text": [
      "object\n",
      "0    <class 'int'>\n",
      "1    <class 'str'>\n",
      "dtype: object\n"
     ]
    }
   ],
   "source": [
    "s = pd.Series([1, 'gohan'])\n",
    "print(s.dtype) # prints object as we have ambiguous values in the series\n",
    "print(s.apply(type)) # prints all types in the series."
   ]
  },
  {
   "cell_type": "markdown",
   "metadata": {},
   "source": [
    "RangeIndex returns an `index` object.\n",
    "\n",
    "You can set the index directly as s.index but it raises an error if the index vals don't match the length.\n",
    "\n",
    "Otherwise, if it's larger / smaller, you can use `series.reindex` which adds NaN vals to new index vals or truncates the vals if the index is smaller than the length."
   ]
  },
  {
   "cell_type": "code",
   "execution_count": 742,
   "metadata": {},
   "outputs": [
    {
     "name": "stdout",
     "output_type": "stream",
     "text": [
      "100    NaN\n",
      "101    NaN\n",
      "102    NaN\n",
      "dtype: object\n"
     ]
    }
   ],
   "source": [
    "index = pd.RangeIndex(start = 100, stop = 106)\n",
    "\n",
    "#s.index = index\n",
    "#print(s, '\\n')\n",
    "\n",
    "index2 = pd.RangeIndex(start = 100, stop = 103)\n",
    "s2 = s.reindex(index = index2)\n",
    "print(s2)"
   ]
  },
  {
   "cell_type": "markdown",
   "metadata": {},
   "source": [
    "DataFrames are sets of Pandas Series into a single array. They have index values like Series and can be reindexed as well."
   ]
  },
  {
   "cell_type": "code",
   "execution_count": 743,
   "metadata": {},
   "outputs": [
    {
     "name": "stdout",
     "output_type": "stream",
     "text": [
      "Data:\n",
      "     0  1  2\n",
      "100  1  2  3\n",
      "101  4  5  6\n",
      "102  7  8  9\n",
      "\n",
      "ReIndexed Data:\n",
      "       0    1    2\n",
      "100  1.0  2.0  3.0\n",
      "101  4.0  5.0  6.0\n",
      "102  7.0  8.0  9.0\n",
      "103  NaN  NaN  NaN\n"
     ]
    }
   ],
   "source": [
    "data = np.array([[1, 2, 3], [4, 5, 6], [7, 8, 9]])\n",
    "data = pd.DataFrame(data = data, index = index2)\n",
    "\n",
    "print(f\"Data:\\n{data}\\n\")\n",
    "\n",
    "index = pd.RangeIndex(start = 100, stop = 104)\n",
    "data2 = data.reindex(index = index)\n",
    "\n",
    "print(f\"ReIndexed Data:\\n{data2}\")\n",
    "\n",
    "#data.index = index # won't work, the `index` is larger than the length of `data`"
   ]
  },
  {
   "cell_type": "markdown",
   "metadata": {},
   "source": [
    "Can also print length, size, shape of dataframes.\n",
    "\n",
    "Len refers to the length of the first dimensionshap. To get the length of the ith dim, just get the ith element in the df.shape. If it's second dim, just transpose data2 and take len(data2)"
   ]
  },
  {
   "cell_type": "code",
   "execution_count": 744,
   "metadata": {},
   "outputs": [
    {
     "name": "stdout",
     "output_type": "stream",
     "text": [
      "Len: 4\n",
      "Size: 12\n",
      "Shape: (4, 3)\n"
     ]
    }
   ],
   "source": [
    "print(f\"Len: {len(data2)}\")\n",
    "print(f\"Size: {data2.size}\")\n",
    "print(f\"Shape: {data2.shape}\")"
   ]
  },
  {
   "cell_type": "markdown",
   "metadata": {},
   "source": [
    "Returns the raw array of Pandas, similar to an Ndarray but with extensions.\n",
    "\n",
    "Can be indexed like an np.array."
   ]
  },
  {
   "cell_type": "code",
   "execution_count": 745,
   "metadata": {},
   "outputs": [
    {
     "name": "stdout",
     "output_type": "stream",
     "text": [
      "<NumpyExtensionArray>\n",
      "[np.int64(1), np.int64(2), np.int64(3)]\n",
      "Length: 3, dtype: int64\n",
      "\n",
      "Arr at index 1: 2\n"
     ]
    }
   ],
   "source": [
    "s = pd.Series([1, 2, 3])\n",
    "print(s.array)\n",
    "print(f\"\\nArr at index 1: {s.array[1]}\")"
   ]
  },
  {
   "cell_type": "code",
   "execution_count": 746,
   "metadata": {},
   "outputs": [
    {
     "name": "stdout",
     "output_type": "stream",
     "text": [
      "[1 1 0]\n",
      "[ True  True False]\n"
     ]
    }
   ],
   "source": [
    "s = pd.Series([True, True, False])\n",
    "s1 = s.to_numpy(dtype = int)\n",
    "s2 = s.to_numpy()\n",
    "print(s1)\n",
    "print(s2)"
   ]
  },
  {
   "cell_type": "markdown",
   "metadata": {},
   "source": [
    "Raw indexing based on indices will yield an error if index does not exist.\n",
    "\n",
    "Using series.get to index will return None or a specified default value rather than raising an error."
   ]
  },
  {
   "cell_type": "code",
   "execution_count": 747,
   "metadata": {},
   "outputs": [
    {
     "name": "stdout",
     "output_type": "stream",
     "text": [
      "None\n",
      "does not exist dummy!\n"
     ]
    }
   ],
   "source": [
    "print(s.get(4))\n",
    "print(s.get(4, default = 'does not exist dummy!'))\n",
    "#print(s[4]) # error"
   ]
  },
  {
   "cell_type": "markdown",
   "metadata": {},
   "source": [
    "Series support np like operations. But their operations align based on the index label, not the positional index."
   ]
  },
  {
   "cell_type": "code",
   "execution_count": 748,
   "metadata": {},
   "outputs": [
    {
     "name": "stdout",
     "output_type": "stream",
     "text": [
      "Add:\n",
      "0    3\n",
      "1    4\n",
      "2    5\n",
      "dtype: int64\n",
      "\n",
      "Mul:\n",
      "0    2\n",
      "1    4\n",
      "2    6\n",
      "dtype: int64\n"
     ]
    }
   ],
   "source": [
    "s = pd.Series([1, 2, 3])\n",
    "d = pd.Series([2, 2, 2])\n",
    "print(f\"Add:\\n{s + d}\\n\")\n",
    "print(f\"Mul:\\n{s*d}\")\n",
    "\n"
   ]
  },
  {
   "cell_type": "markdown",
   "metadata": {},
   "source": [
    "If index labels aren't present in both series, the corresponding index label will have it's value set as NaN"
   ]
  },
  {
   "cell_type": "code",
   "execution_count": 749,
   "metadata": {},
   "outputs": [
    {
     "name": "stdout",
     "output_type": "stream",
     "text": [
      "Add:\n",
      "0    3.0\n",
      "1    4.0\n",
      "2    NaN\n",
      "dtype: float64\n",
      "\n"
     ]
    }
   ],
   "source": [
    "s = pd.Series([1, 2])\n",
    "d = pd.Series([2, 2, 2])\n",
    "print(f\"Add:\\n{s + d}\\n\")"
   ]
  },
  {
   "cell_type": "markdown",
   "metadata": {},
   "source": [
    "*> Note that a series will only be 1 dimensional. Convert to a Df if you want the additional dimension*"
   ]
  },
  {
   "cell_type": "code",
   "execution_count": 750,
   "metadata": {},
   "outputs": [
    {
     "name": "stdout",
     "output_type": "stream",
     "text": [
      "Original Series\n",
      "(2,)\n",
      "(3,)\n",
      "\n",
      "Dataframes\n",
      "(2, 1)\n",
      "(3, 1)\n",
      "\n",
      "S:\n",
      "   0\n",
      "0  1\n",
      "1  2\n",
      "\n",
      "D.T:\n",
      "   0  1  2\n",
      "0  2  2  2\n"
     ]
    },
    {
     "data": {
      "text/html": [
       "<div>\n",
       "<style scoped>\n",
       "    .dataframe tbody tr th:only-of-type {\n",
       "        vertical-align: middle;\n",
       "    }\n",
       "\n",
       "    .dataframe tbody tr th {\n",
       "        vertical-align: top;\n",
       "    }\n",
       "\n",
       "    .dataframe thead th {\n",
       "        text-align: right;\n",
       "    }\n",
       "</style>\n",
       "<table border=\"1\" class=\"dataframe\">\n",
       "  <thead>\n",
       "    <tr style=\"text-align: right;\">\n",
       "      <th></th>\n",
       "      <th>0</th>\n",
       "      <th>1</th>\n",
       "      <th>2</th>\n",
       "    </tr>\n",
       "  </thead>\n",
       "  <tbody>\n",
       "    <tr>\n",
       "      <th>0</th>\n",
       "      <td>2</td>\n",
       "      <td>2</td>\n",
       "      <td>2</td>\n",
       "    </tr>\n",
       "    <tr>\n",
       "      <th>1</th>\n",
       "      <td>4</td>\n",
       "      <td>4</td>\n",
       "      <td>4</td>\n",
       "    </tr>\n",
       "  </tbody>\n",
       "</table>\n",
       "</div>"
      ],
      "text/plain": [
       "   0  1  2\n",
       "0  2  2  2\n",
       "1  4  4  4"
      ]
     },
     "execution_count": 750,
     "metadata": {},
     "output_type": "execute_result"
    }
   ],
   "source": [
    "print(\"Original Series\")\n",
    "print(s.shape)\n",
    "print(d.shape)\n",
    "\n",
    "print(\"\\nDataframes\")\n",
    "print(s.to_frame().shape)\n",
    "print(d.to_frame().shape)\n",
    "\n",
    "print(f\"\\nS:\\n{s.to_frame()}\")\n",
    "print(f\"\\nD.T:\\n{d.to_frame().T}\")\n",
    "\n",
    "s.to_frame() @ d.to_frame().T"
   ]
  },
  {
   "cell_type": "code",
   "execution_count": 751,
   "metadata": {},
   "outputs": [
    {
     "name": "stdout",
     "output_type": "stream",
     "text": [
      "one    a    1\n",
      "b    2\n",
      "c    3\n",
      "d    4\n",
      "dtype: int64\n",
      "dtype: object\n",
      "\n",
      "a    1\n",
      "b    2\n",
      "c    3\n",
      "d    4\n",
      "dtype: int64\n"
     ]
    }
   ],
   "source": [
    "s = {'one': pd.Series([1, 2, 3, 4], index = ['a', 'b', 'c', 'd'])}\n",
    "s = pd.Series(s)\n",
    "print(s)\n",
    "print()\n",
    "print(s['one'])"
   ]
  },
  {
   "cell_type": "markdown",
   "metadata": {},
   "source": [
    "## DATAFRAME"
   ]
  },
  {
   "cell_type": "code",
   "execution_count": 752,
   "metadata": {},
   "outputs": [
    {
     "data": {
      "text/html": [
       "<div>\n",
       "<style scoped>\n",
       "    .dataframe tbody tr th:only-of-type {\n",
       "        vertical-align: middle;\n",
       "    }\n",
       "\n",
       "    .dataframe tbody tr th {\n",
       "        vertical-align: top;\n",
       "    }\n",
       "\n",
       "    .dataframe thead th {\n",
       "        text-align: right;\n",
       "    }\n",
       "</style>\n",
       "<table border=\"1\" class=\"dataframe\">\n",
       "  <thead>\n",
       "    <tr style=\"text-align: right;\">\n",
       "      <th></th>\n",
       "      <th>0</th>\n",
       "      <th>1</th>\n",
       "      <th>2</th>\n",
       "    </tr>\n",
       "  </thead>\n",
       "  <tbody>\n",
       "    <tr>\n",
       "      <th>0</th>\n",
       "      <td>1</td>\n",
       "      <td>2</td>\n",
       "      <td>3.0</td>\n",
       "    </tr>\n",
       "    <tr>\n",
       "      <th>1</th>\n",
       "      <td>3</td>\n",
       "      <td>4</td>\n",
       "      <td>5.0</td>\n",
       "    </tr>\n",
       "    <tr>\n",
       "      <th>2</th>\n",
       "      <td>4</td>\n",
       "      <td>5</td>\n",
       "      <td>NaN</td>\n",
       "    </tr>\n",
       "  </tbody>\n",
       "</table>\n",
       "</div>"
      ],
      "text/plain": [
       "   0  1    2\n",
       "0  1  2  3.0\n",
       "1  3  4  5.0\n",
       "2  4  5  NaN"
      ]
     },
     "execution_count": 752,
     "metadata": {},
     "output_type": "execute_result"
    }
   ],
   "source": [
    "df = pd.DataFrame([[1, 2, 3], [3, 4, 5], [4, 5]])\n",
    "df"
   ]
  },
  {
   "cell_type": "code",
   "execution_count": 753,
   "metadata": {},
   "outputs": [
    {
     "data": {
      "text/html": [
       "<div>\n",
       "<style scoped>\n",
       "    .dataframe tbody tr th:only-of-type {\n",
       "        vertical-align: middle;\n",
       "    }\n",
       "\n",
       "    .dataframe tbody tr th {\n",
       "        vertical-align: top;\n",
       "    }\n",
       "\n",
       "    .dataframe thead th {\n",
       "        text-align: right;\n",
       "    }\n",
       "</style>\n",
       "<table border=\"1\" class=\"dataframe\">\n",
       "  <thead>\n",
       "    <tr style=\"text-align: right;\">\n",
       "      <th></th>\n",
       "      <th>one</th>\n",
       "      <th>two</th>\n",
       "    </tr>\n",
       "  </thead>\n",
       "  <tbody>\n",
       "    <tr>\n",
       "      <th>a</th>\n",
       "      <td>1</td>\n",
       "      <td>1</td>\n",
       "    </tr>\n",
       "    <tr>\n",
       "      <th>b</th>\n",
       "      <td>2</td>\n",
       "      <td>2</td>\n",
       "    </tr>\n",
       "    <tr>\n",
       "      <th>c</th>\n",
       "      <td>3</td>\n",
       "      <td>3</td>\n",
       "    </tr>\n",
       "    <tr>\n",
       "      <th>d</th>\n",
       "      <td>4</td>\n",
       "      <td>4</td>\n",
       "    </tr>\n",
       "    <tr>\n",
       "      <th>e</th>\n",
       "      <td>5</td>\n",
       "      <td>5</td>\n",
       "    </tr>\n",
       "    <tr>\n",
       "      <th>f</th>\n",
       "      <td>6</td>\n",
       "      <td>6</td>\n",
       "    </tr>\n",
       "  </tbody>\n",
       "</table>\n",
       "</div>"
      ],
      "text/plain": [
       "   one  two\n",
       "a    1    1\n",
       "b    2    2\n",
       "c    3    3\n",
       "d    4    4\n",
       "e    5    5\n",
       "f    6    6"
      ]
     },
     "execution_count": 753,
     "metadata": {},
     "output_type": "execute_result"
    }
   ],
   "source": [
    "d = {\n",
    "    \"one\": pd.Series([1, 2, 3, 4, 5, 6], index = ['a', 'b', 'c', 'd', 'e', 'f']),\n",
    "    \"two\": pd.Series([1, 2, 3, 4, 5, 6], index = ['a', 'b', 'c','d', 'e', 'f'])    \n",
    "}\n",
    "\n",
    "df = pd.DataFrame(d)\n",
    "df"
   ]
  },
  {
   "cell_type": "code",
   "execution_count": 754,
   "metadata": {},
   "outputs": [
    {
     "data": {
      "text/html": [
       "<div>\n",
       "<style scoped>\n",
       "    .dataframe tbody tr th:only-of-type {\n",
       "        vertical-align: middle;\n",
       "    }\n",
       "\n",
       "    .dataframe tbody tr th {\n",
       "        vertical-align: top;\n",
       "    }\n",
       "\n",
       "    .dataframe thead th {\n",
       "        text-align: right;\n",
       "    }\n",
       "</style>\n",
       "<table border=\"1\" class=\"dataframe\">\n",
       "  <thead>\n",
       "    <tr style=\"text-align: right;\">\n",
       "      <th></th>\n",
       "      <th>ID</th>\n",
       "      <th>PIN</th>\n",
       "    </tr>\n",
       "  </thead>\n",
       "  <tbody>\n",
       "    <tr>\n",
       "      <th>two</th>\n",
       "      <td>NaN</td>\n",
       "      <td>NaN</td>\n",
       "    </tr>\n",
       "    <tr>\n",
       "      <th>three</th>\n",
       "      <td>NaN</td>\n",
       "      <td>NaN</td>\n",
       "    </tr>\n",
       "    <tr>\n",
       "      <th>four</th>\n",
       "      <td>NaN</td>\n",
       "      <td>NaN</td>\n",
       "    </tr>\n",
       "  </tbody>\n",
       "</table>\n",
       "</div>"
      ],
      "text/plain": [
       "        ID  PIN\n",
       "two    NaN  NaN\n",
       "three  NaN  NaN\n",
       "four   NaN  NaN"
      ]
     },
     "execution_count": 754,
     "metadata": {},
     "output_type": "execute_result"
    }
   ],
   "source": [
    "d = {\n",
    "    'one': [1, 2, 3],\n",
    "    'two': [2, 3, 4]\n",
    "}\n",
    "\n",
    "df = pd.DataFrame(d, index = ['two', 'three', 'four'], columns = ['ID', \"PIN\"])\n",
    "df"
   ]
  },
  {
   "cell_type": "code",
   "execution_count": 755,
   "metadata": {},
   "outputs": [
    {
     "data": {
      "text/html": [
       "<div>\n",
       "<style scoped>\n",
       "    .dataframe tbody tr th:only-of-type {\n",
       "        vertical-align: middle;\n",
       "    }\n",
       "\n",
       "    .dataframe tbody tr th {\n",
       "        vertical-align: top;\n",
       "    }\n",
       "\n",
       "    .dataframe thead th {\n",
       "        text-align: right;\n",
       "    }\n",
       "</style>\n",
       "<table border=\"1\" class=\"dataframe\">\n",
       "  <thead>\n",
       "    <tr style=\"text-align: right;\">\n",
       "      <th></th>\n",
       "      <th>ID</th>\n",
       "      <th>PIN</th>\n",
       "    </tr>\n",
       "  </thead>\n",
       "  <tbody>\n",
       "    <tr>\n",
       "      <th>two</th>\n",
       "      <td>1</td>\n",
       "      <td>2</td>\n",
       "    </tr>\n",
       "    <tr>\n",
       "      <th>three</th>\n",
       "      <td>2</td>\n",
       "      <td>3</td>\n",
       "    </tr>\n",
       "    <tr>\n",
       "      <th>four</th>\n",
       "      <td>3</td>\n",
       "      <td>4</td>\n",
       "    </tr>\n",
       "  </tbody>\n",
       "</table>\n",
       "</div>"
      ],
      "text/plain": [
       "       ID  PIN\n",
       "two     1    2\n",
       "three   2    3\n",
       "four    3    4"
      ]
     },
     "execution_count": 755,
     "metadata": {},
     "output_type": "execute_result"
    }
   ],
   "source": [
    "d = {\n",
    "    'one': [1, 2, 3],\n",
    "    'two': [2, 3, 4]\n",
    "}\n",
    "\n",
    "df = pd.DataFrame(d, index = ['two', 'three', 'four'])\n",
    "df.columns = ['ID', 'PIN']\n",
    "df"
   ]
  },
  {
   "cell_type": "code",
   "execution_count": 756,
   "metadata": {},
   "outputs": [],
   "source": [
    "rng = np.random.default_rng(seed = 1)\n",
    "d = rng.normal((2, 2))\n",
    "d = pd.DataFrame(d)"
   ]
  },
  {
   "cell_type": "code",
   "execution_count": 757,
   "metadata": {},
   "outputs": [
    {
     "data": {
      "text/html": [
       "<div>\n",
       "<style scoped>\n",
       "    .dataframe tbody tr th:only-of-type {\n",
       "        vertical-align: middle;\n",
       "    }\n",
       "\n",
       "    .dataframe tbody tr th {\n",
       "        vertical-align: top;\n",
       "    }\n",
       "\n",
       "    .dataframe thead th {\n",
       "        text-align: right;\n",
       "    }\n",
       "</style>\n",
       "<table border=\"1\" class=\"dataframe\">\n",
       "  <thead>\n",
       "    <tr style=\"text-align: right;\">\n",
       "      <th></th>\n",
       "      <th>RNG1</th>\n",
       "      <th>RNG2</th>\n",
       "    </tr>\n",
       "  </thead>\n",
       "  <tbody>\n",
       "    <tr>\n",
       "      <th>0</th>\n",
       "      <td>0.330437</td>\n",
       "      <td>0.446375</td>\n",
       "    </tr>\n",
       "    <tr>\n",
       "      <th>1</th>\n",
       "      <td>-1.303157</td>\n",
       "      <td>-0.536953</td>\n",
       "    </tr>\n",
       "    <tr>\n",
       "      <th>2</th>\n",
       "      <td>0.905356</td>\n",
       "      <td>0.581118</td>\n",
       "    </tr>\n",
       "  </tbody>\n",
       "</table>\n",
       "</div>"
      ],
      "text/plain": [
       "       RNG1      RNG2\n",
       "0  0.330437  0.446375\n",
       "1 -1.303157 -0.536953\n",
       "2  0.905356  0.581118"
      ]
     },
     "execution_count": 757,
     "metadata": {},
     "output_type": "execute_result"
    }
   ],
   "source": [
    "d = {\"RNG1\": rng.normal(size = (3)), \"RNG2\": rng.normal(size = (3))}\n",
    "d = pd.DataFrame(d, index = [0, 1, 2])\n",
    "d"
   ]
  },
  {
   "cell_type": "markdown",
   "metadata": {},
   "source": [
    "Here, each element of data2 is a dict, representing a row of the dataframe.\n",
    "Each column is denoted by the key of each dict. Each dict represents a row of the dataframe\n",
    "\n",
    "\n",
    "The second dict in the list has no 'd' but the first does, therefore in the column of 'd', the second row's value for that column gets marked as NaN."
   ]
  },
  {
   "cell_type": "code",
   "execution_count": 758,
   "metadata": {},
   "outputs": [
    {
     "data": {
      "text/html": [
       "<div>\n",
       "<style scoped>\n",
       "    .dataframe tbody tr th:only-of-type {\n",
       "        vertical-align: middle;\n",
       "    }\n",
       "\n",
       "    .dataframe tbody tr th {\n",
       "        vertical-align: top;\n",
       "    }\n",
       "\n",
       "    .dataframe thead th {\n",
       "        text-align: right;\n",
       "    }\n",
       "</style>\n",
       "<table border=\"1\" class=\"dataframe\">\n",
       "  <thead>\n",
       "    <tr style=\"text-align: right;\">\n",
       "      <th></th>\n",
       "      <th>a</th>\n",
       "      <th>b</th>\n",
       "      <th>c</th>\n",
       "      <th>d</th>\n",
       "    </tr>\n",
       "  </thead>\n",
       "  <tbody>\n",
       "    <tr>\n",
       "      <th>0</th>\n",
       "      <td>1</td>\n",
       "      <td>2</td>\n",
       "      <td>1</td>\n",
       "      <td>5.0</td>\n",
       "    </tr>\n",
       "    <tr>\n",
       "      <th>1</th>\n",
       "      <td>5</td>\n",
       "      <td>10</td>\n",
       "      <td>20</td>\n",
       "      <td>NaN</td>\n",
       "    </tr>\n",
       "  </tbody>\n",
       "</table>\n",
       "</div>"
      ],
      "text/plain": [
       "   a   b   c    d\n",
       "0  1   2   1  5.0\n",
       "1  5  10  20  NaN"
      ]
     },
     "execution_count": 758,
     "metadata": {},
     "output_type": "execute_result"
    }
   ],
   "source": [
    "data2 = [{\"a\": 1, \"b\": 2, 'c': 1, 'd': 5}, {\"a\": 5, \"b\": 10, \"c\": 20}]\n",
    "pd.DataFrame(data2)"
   ]
  },
  {
   "cell_type": "code",
   "execution_count": 759,
   "metadata": {},
   "outputs": [
    {
     "name": "stdout",
     "output_type": "stream",
     "text": [
      "            0    1\n",
      "0  2012-07-01  391\n",
      "1  2012-07-02  392\n",
      "2  2012-07-03  392\n",
      "3  2012-07-04  392\n",
      "4  2012-07-05  392\n",
      "5  2012-07-06  392\n",
      "\n",
      "            0    1\n",
      "0  2012-07-01  391\n",
      "1  2012-07-02  392\n",
      "2  2012-07-03  392\n",
      "3  2012-07-04  392\n",
      "4  2012-07-05  392\n",
      "5  2012-07-06  392\n",
      "\n",
      "[('2012-07-01', 391), ('2012-07-02', 392), ('2012-07-03', 392), ('2012-07-04', 392), ('2012-07-05', 392), ('2012-07-06', 392)]\n",
      "\n",
      "dict_items([('2012-07-01', 391), ('2012-07-02', 392), ('2012-07-03', 392), ('2012-07-04', 392), ('2012-07-05', 392), ('2012-07-06', 392)])\n"
     ]
    }
   ],
   "source": [
    "dict = {u'2012-07-01': 391,\n",
    " u'2012-07-02': 392,\n",
    " u'2012-07-03': 392,\n",
    " u'2012-07-04': 392,\n",
    " u'2012-07-05': 392,\n",
    " u'2012-07-06': 392}\n",
    "\n",
    "print(pd.DataFrame(list(dict.items())))\n",
    "print()\n",
    "print(pd.DataFrame(dict.items()))\n",
    "\n",
    "print()\n",
    "print(list(dict.items()))\n",
    "print()\n",
    "print(dict.items())\n"
   ]
  },
  {
   "cell_type": "code",
   "execution_count": 760,
   "metadata": {},
   "outputs": [
    {
     "name": "stdout",
     "output_type": "stream",
     "text": [
      "          A1         B2\n",
      "A  [1, 2, 3]     [7, 6]\n",
      "B  [4, 5, 6]  [9, 2, 3]\n"
     ]
    }
   ],
   "source": [
    "data = {'A1': {'A': [1, 2, 3], 'B': [4, 5, 6]}, 'B2': {'A': [7, 6], 'B': [9, 2, 3]}}\n",
    "dframe = pd.DataFrame.from_dict(data)\n",
    "print(dframe)"
   ]
  },
  {
   "cell_type": "markdown",
   "metadata": {},
   "source": [
    "By default, each row in the dataframe is a series."
   ]
  },
  {
   "cell_type": "code",
   "execution_count": 761,
   "metadata": {},
   "outputs": [
    {
     "data": {
      "text/html": [
       "<div>\n",
       "<style scoped>\n",
       "    .dataframe tbody tr th:only-of-type {\n",
       "        vertical-align: middle;\n",
       "    }\n",
       "\n",
       "    .dataframe tbody tr th {\n",
       "        vertical-align: top;\n",
       "    }\n",
       "\n",
       "    .dataframe thead th {\n",
       "        text-align: right;\n",
       "    }\n",
       "</style>\n",
       "<table border=\"1\" class=\"dataframe\">\n",
       "  <thead>\n",
       "    <tr style=\"text-align: right;\">\n",
       "      <th></th>\n",
       "      <th>one</th>\n",
       "      <th>two</th>\n",
       "      <th>three</th>\n",
       "    </tr>\n",
       "  </thead>\n",
       "  <tbody>\n",
       "    <tr>\n",
       "      <th>0</th>\n",
       "      <td>1</td>\n",
       "      <td>2</td>\n",
       "      <td>3</td>\n",
       "    </tr>\n",
       "    <tr>\n",
       "      <th>1</th>\n",
       "      <td>3</td>\n",
       "      <td>4</td>\n",
       "      <td>5</td>\n",
       "    </tr>\n",
       "  </tbody>\n",
       "</table>\n",
       "</div>"
      ],
      "text/plain": [
       "   one  two  three\n",
       "0    1    2      3\n",
       "1    3    4      5"
      ]
     },
     "execution_count": 761,
     "metadata": {},
     "output_type": "execute_result"
    }
   ],
   "source": [
    "s1 = pd.Series([1, 2, 3], index = ['one', 'two', 'three'])\n",
    "s2 = pd.Series([3, 4, 5], index = ['one', 'two', 'three'])\n",
    "\n",
    "pd.DataFrame(data = (s1, s2))"
   ]
  },
  {
   "cell_type": "code",
   "execution_count": 762,
   "metadata": {},
   "outputs": [
    {
     "name": "stdout",
     "output_type": "stream",
     "text": [
      "       a  b  c\n",
      "one    1  1  1\n",
      "two    2  2  2\n",
      "three  3  3  3 \n",
      "\n",
      "a    0\n",
      "b    1\n",
      "c    1\n",
      "Name: one, dtype: int64\n"
     ]
    }
   ],
   "source": [
    "df = pd.DataFrame([[1, 1, 1], [2, 2, 2], [3, 3, 3]], index = ['one', 'two', 'three'], columns = ['a', 'b', 'c'])\n",
    "print(df, '\\n')\n",
    "#del df['a']\n",
    "#df['a'] = 0\n",
    "#df.loc['one', 'a'] = 0\n",
    "#df.at['one', 'a'] = 0\n",
    "df.iat[0, 0] = 0\n",
    "print(df.loc['one'])"
   ]
  },
  {
   "cell_type": "code",
   "execution_count": 763,
   "metadata": {},
   "outputs": [
    {
     "name": "stdout",
     "output_type": "stream",
     "text": [
      "       a  b  c\n",
      "two    2  2  2\n",
      "three  3  3  3\n"
     ]
    }
   ],
   "source": [
    "df = df.T\n",
    "df.pop('one')\n",
    "df = df.T\n",
    "print(df)"
   ]
  },
  {
   "cell_type": "code",
   "execution_count": 764,
   "metadata": {},
   "outputs": [
    {
     "data": {
      "text/html": [
       "<div>\n",
       "<style scoped>\n",
       "    .dataframe tbody tr th:only-of-type {\n",
       "        vertical-align: middle;\n",
       "    }\n",
       "\n",
       "    .dataframe tbody tr th {\n",
       "        vertical-align: top;\n",
       "    }\n",
       "\n",
       "    .dataframe thead th {\n",
       "        text-align: right;\n",
       "    }\n",
       "</style>\n",
       "<table border=\"1\" class=\"dataframe\">\n",
       "  <thead>\n",
       "    <tr style=\"text-align: right;\">\n",
       "      <th></th>\n",
       "      <th>sepal_length</th>\n",
       "      <th>sepal_width</th>\n",
       "      <th>petal_length</th>\n",
       "      <th>petal_width</th>\n",
       "      <th>species</th>\n",
       "      <th>sepal_lw_ratio</th>\n",
       "    </tr>\n",
       "  </thead>\n",
       "  <tbody>\n",
       "    <tr>\n",
       "      <th>0</th>\n",
       "      <td>5.1</td>\n",
       "      <td>3.5</td>\n",
       "      <td>1.4</td>\n",
       "      <td>0.2</td>\n",
       "      <td>setosa</td>\n",
       "      <td>1.457143</td>\n",
       "    </tr>\n",
       "    <tr>\n",
       "      <th>1</th>\n",
       "      <td>4.9</td>\n",
       "      <td>3.0</td>\n",
       "      <td>1.4</td>\n",
       "      <td>0.2</td>\n",
       "      <td>setosa</td>\n",
       "      <td>1.633333</td>\n",
       "    </tr>\n",
       "    <tr>\n",
       "      <th>2</th>\n",
       "      <td>4.7</td>\n",
       "      <td>3.2</td>\n",
       "      <td>1.3</td>\n",
       "      <td>0.2</td>\n",
       "      <td>setosa</td>\n",
       "      <td>1.468750</td>\n",
       "    </tr>\n",
       "    <tr>\n",
       "      <th>3</th>\n",
       "      <td>4.6</td>\n",
       "      <td>3.1</td>\n",
       "      <td>1.5</td>\n",
       "      <td>0.2</td>\n",
       "      <td>setosa</td>\n",
       "      <td>1.483871</td>\n",
       "    </tr>\n",
       "    <tr>\n",
       "      <th>4</th>\n",
       "      <td>5.0</td>\n",
       "      <td>3.6</td>\n",
       "      <td>1.4</td>\n",
       "      <td>0.2</td>\n",
       "      <td>setosa</td>\n",
       "      <td>1.388889</td>\n",
       "    </tr>\n",
       "    <tr>\n",
       "      <th>...</th>\n",
       "      <td>...</td>\n",
       "      <td>...</td>\n",
       "      <td>...</td>\n",
       "      <td>...</td>\n",
       "      <td>...</td>\n",
       "      <td>...</td>\n",
       "    </tr>\n",
       "    <tr>\n",
       "      <th>145</th>\n",
       "      <td>6.7</td>\n",
       "      <td>3.0</td>\n",
       "      <td>5.2</td>\n",
       "      <td>2.3</td>\n",
       "      <td>virginica</td>\n",
       "      <td>2.233333</td>\n",
       "    </tr>\n",
       "    <tr>\n",
       "      <th>146</th>\n",
       "      <td>6.3</td>\n",
       "      <td>2.5</td>\n",
       "      <td>5.0</td>\n",
       "      <td>1.9</td>\n",
       "      <td>virginica</td>\n",
       "      <td>2.520000</td>\n",
       "    </tr>\n",
       "    <tr>\n",
       "      <th>147</th>\n",
       "      <td>6.5</td>\n",
       "      <td>3.0</td>\n",
       "      <td>5.2</td>\n",
       "      <td>2.0</td>\n",
       "      <td>virginica</td>\n",
       "      <td>2.166667</td>\n",
       "    </tr>\n",
       "    <tr>\n",
       "      <th>148</th>\n",
       "      <td>6.2</td>\n",
       "      <td>3.4</td>\n",
       "      <td>5.4</td>\n",
       "      <td>2.3</td>\n",
       "      <td>virginica</td>\n",
       "      <td>1.823529</td>\n",
       "    </tr>\n",
       "    <tr>\n",
       "      <th>149</th>\n",
       "      <td>5.9</td>\n",
       "      <td>3.0</td>\n",
       "      <td>5.1</td>\n",
       "      <td>1.8</td>\n",
       "      <td>virginica</td>\n",
       "      <td>1.966667</td>\n",
       "    </tr>\n",
       "  </tbody>\n",
       "</table>\n",
       "<p>150 rows × 6 columns</p>\n",
       "</div>"
      ],
      "text/plain": [
       "     sepal_length  sepal_width  petal_length  petal_width    species  \\\n",
       "0             5.1          3.5           1.4          0.2     setosa   \n",
       "1             4.9          3.0           1.4          0.2     setosa   \n",
       "2             4.7          3.2           1.3          0.2     setosa   \n",
       "3             4.6          3.1           1.5          0.2     setosa   \n",
       "4             5.0          3.6           1.4          0.2     setosa   \n",
       "..            ...          ...           ...          ...        ...   \n",
       "145           6.7          3.0           5.2          2.3  virginica   \n",
       "146           6.3          2.5           5.0          1.9  virginica   \n",
       "147           6.5          3.0           5.2          2.0  virginica   \n",
       "148           6.2          3.4           5.4          2.3  virginica   \n",
       "149           5.9          3.0           5.1          1.8  virginica   \n",
       "\n",
       "     sepal_lw_ratio  \n",
       "0          1.457143  \n",
       "1          1.633333  \n",
       "2          1.468750  \n",
       "3          1.483871  \n",
       "4          1.388889  \n",
       "..              ...  \n",
       "145        2.233333  \n",
       "146        2.520000  \n",
       "147        2.166667  \n",
       "148        1.823529  \n",
       "149        1.966667  \n",
       "\n",
       "[150 rows x 6 columns]"
      ]
     },
     "execution_count": 764,
     "metadata": {},
     "output_type": "execute_result"
    }
   ],
   "source": [
    "data = pd.read_csv('data/iris.csv')\n",
    "data = data.assign(sepal_lw_ratio = data['sepal_length'] / data['sepal_width'])\n",
    "data"
   ]
  },
  {
   "cell_type": "code",
   "execution_count": 765,
   "metadata": {},
   "outputs": [
    {
     "data": {
      "text/plain": [
       "0         setosa\n",
       "1         setosa\n",
       "2         setosa\n",
       "3         setosa\n",
       "4         setosa\n",
       "         ...    \n",
       "145    virginica\n",
       "146    virginica\n",
       "147    virginica\n",
       "148    virginica\n",
       "149    virginica\n",
       "Name: species, Length: 150, dtype: object"
      ]
     },
     "execution_count": 765,
     "metadata": {},
     "output_type": "execute_result"
    }
   ],
   "source": [
    "data['species']"
   ]
  },
  {
   "cell_type": "code",
   "execution_count": 766,
   "metadata": {},
   "outputs": [
    {
     "name": "stdout",
     "output_type": "stream",
     "text": [
      "orig:\n",
      "\n",
      "sepal_length           5.1\n",
      "sepal_width            3.5\n",
      "petal_length           1.4\n",
      "petal_width            0.2\n",
      "species             setosa\n",
      "sepal_lw_ratio    1.457143\n",
      "Name: 0, dtype: object\n",
      "\n",
      ".loc 5.1\n",
      ".iloc 5.1\n",
      "\n"
     ]
    }
   ],
   "source": [
    "print(f'orig:\\n\\n{data.loc[0]}')\n",
    "print()\n",
    "print(f'.loc {data.loc[0, 'sepal_length']}')\n",
    "print(f'.iloc {data.iloc[0, 0]}')\n",
    "print()"
   ]
  },
  {
   "cell_type": "code",
   "execution_count": 767,
   "metadata": {},
   "outputs": [
    {
     "name": "stdout",
     "output_type": "stream",
     "text": [
      "   sepal_length  sepal_width  petal_length  petal_width species  \\\n",
      "0           5.1          3.5           1.4          0.2  setosa   \n",
      "1           4.9          3.0           1.4          0.2  setosa   \n",
      "2           4.7          3.2           1.3          0.2  setosa   \n",
      "3           4.6          3.1           1.5          0.2  setosa   \n",
      "4           5.0          3.6           1.4          0.2  setosa   \n",
      "\n",
      "   sepal_lw_ratio  \n",
      "0        1.457143  \n",
      "1        1.633333  \n",
      "2        1.468750  \n",
      "3        1.483871  \n",
      "4        1.388889  \n",
      "   sepal_length  sepal_width\n",
      "0           5.1          3.5\n",
      "1           4.9          3.0\n",
      "2           4.7          3.2\n",
      "3           4.6          3.1\n",
      "4           5.0          3.6\n"
     ]
    }
   ],
   "source": [
    "print(data[0:5])\n",
    "print(data.iloc[0:5, 0:2])"
   ]
  },
  {
   "cell_type": "code",
   "execution_count": 768,
   "metadata": {},
   "outputs": [
    {
     "name": "stdout",
     "output_type": "stream",
     "text": [
      "0    10.2\n",
      "1     9.5\n",
      "2     9.4\n",
      "3     9.4\n",
      "4    10.2\n",
      "dtype: float64\n",
      "\n",
      "[10.2  9.5  9.4  9.4 10.2]\n"
     ]
    }
   ],
   "source": [
    "print(np.sum(data.iloc[:5, :4], axis =1))\n",
    "print()\n",
    "print(np.asarray(np.sum(data.iloc[:5, :4], axis = 1)))"
   ]
  },
  {
   "cell_type": "code",
   "execution_count": 769,
   "metadata": {},
   "outputs": [
    {
     "name": "stdout",
     "output_type": "stream",
     "text": [
      "   0  1\n",
      "A  0  0\n",
      "B  1  1\n",
      "C  2  2\n",
      "D  3  3\n",
      "E  4  4\n"
     ]
    },
    {
     "data": {
      "text/html": [
       "<div>\n",
       "<style scoped>\n",
       "    .dataframe tbody tr th:only-of-type {\n",
       "        vertical-align: middle;\n",
       "    }\n",
       "\n",
       "    .dataframe tbody tr th {\n",
       "        vertical-align: top;\n",
       "    }\n",
       "\n",
       "    .dataframe thead th {\n",
       "        text-align: right;\n",
       "    }\n",
       "</style>\n",
       "<table border=\"1\" class=\"dataframe\">\n",
       "  <thead>\n",
       "    <tr style=\"text-align: right;\">\n",
       "      <th></th>\n",
       "      <th>0</th>\n",
       "      <th>1</th>\n",
       "    </tr>\n",
       "  </thead>\n",
       "  <tbody>\n",
       "    <tr>\n",
       "      <th>C</th>\n",
       "      <td>2</td>\n",
       "      <td>2</td>\n",
       "    </tr>\n",
       "    <tr>\n",
       "      <th>D</th>\n",
       "      <td>3</td>\n",
       "      <td>3</td>\n",
       "    </tr>\n",
       "    <tr>\n",
       "      <th>E</th>\n",
       "      <td>4</td>\n",
       "      <td>4</td>\n",
       "    </tr>\n",
       "  </tbody>\n",
       "</table>\n",
       "</div>"
      ],
      "text/plain": [
       "   0  1\n",
       "C  2  2\n",
       "D  3  3\n",
       "E  4  4"
      ]
     },
     "execution_count": 769,
     "metadata": {},
     "output_type": "execute_result"
    }
   ],
   "source": [
    "dframe = pd.DataFrame(data = [range(5), range(5)], columns= list('ABCDE')).T\n",
    "print(dframe)\n",
    "\n",
    "dframe.drop(labels = ['A', 'B'])"
   ]
  },
  {
   "cell_type": "code",
   "execution_count": 770,
   "metadata": {},
   "outputs": [
    {
     "name": "stdout",
     "output_type": "stream",
     "text": [
      "   X  Y\n",
      "A  0  0\n",
      "B  1  1\n",
      "C  2  2\n",
      "D  3  3\n",
      "E  4  4\n",
      "\n",
      "X    0\n",
      "Y    0\n",
      "Name: A, dtype: int64\n",
      "\n",
      "   A  B  C  D  E\n",
      "X  0  1  2  3  4\n",
      "Y  0  1  2  3  4\n",
      "\n",
      "A    0\n",
      "B    1\n",
      "C    2\n",
      "D    3\n",
      "E    4\n",
      "Name: X, dtype: int64\n",
      "\n",
      "or\n",
      "\n",
      "A    0\n",
      "B    1\n",
      "C    2\n",
      "D    3\n",
      "E    4\n",
      "Name: X, dtype: int64\n"
     ]
    }
   ],
   "source": [
    "dframe = dframe.rename(columns={dframe.columns[0]: 'X', dframe.columns[1]: 'Y'})\n",
    "\n",
    "print(dframe)\n",
    "print()\n",
    "print(dframe.iloc[0])\n",
    "dframe = dframe.T\n",
    "print()\n",
    "print(dframe)\n",
    "print()\n",
    "print(dframe.iloc[0])\n",
    "print()\n",
    "print('or')\n",
    "print()\n",
    "print(dframe.loc['X'])"
   ]
  },
  {
   "cell_type": "markdown",
   "metadata": {},
   "source": [
    "### Data Alignment and Arithmetic"
   ]
  },
  {
   "cell_type": "markdown",
   "metadata": {},
   "source": [
    "If a DataFrame is added to another DataFrame, yet one is smaller than the other, the elements that don't line up element-wise will be set to NaN"
   ]
  },
  {
   "cell_type": "code",
   "execution_count": 771,
   "metadata": {},
   "outputs": [
    {
     "name": "stdout",
     "output_type": "stream",
     "text": [
      "   A  B\n",
      "0  1  1\n",
      "1  1  1\n",
      "\n",
      "   A  B  C\n",
      "0  1  1  1\n",
      "1  1  1  1\n",
      "2  1  1  1\n"
     ]
    }
   ],
   "source": [
    "df1 = pd.DataFrame(np.array([[1, 1], [1, 1]]), columns = ['A', 'B'])\n",
    "df2 = pd.DataFrame(np.array([[1, 1, 1], [1, 1, 1], [1, 1, 1]]), columns = ['A', 'B', 'C'])\n",
    "\n",
    "print(df1)\n",
    "print()\n",
    "print(df2)"
   ]
  },
  {
   "cell_type": "code",
   "execution_count": 772,
   "metadata": {},
   "outputs": [
    {
     "name": "stdout",
     "output_type": "stream",
     "text": [
      "     A    B   C\n",
      "0  2.0  2.0 NaN\n",
      "1  2.0  2.0 NaN\n",
      "2  NaN  NaN NaN\n"
     ]
    }
   ],
   "source": [
    "print(df1 + df2)"
   ]
  },
  {
   "cell_type": "markdown",
   "metadata": {},
   "source": [
    "As default, addition is done based on the alignment of the index labels and the column labels."
   ]
  },
  {
   "cell_type": "code",
   "execution_count": 773,
   "metadata": {},
   "outputs": [
    {
     "name": "stdout",
     "output_type": "stream",
     "text": [
      "   B  C\n",
      "0  1  1\n",
      "1  1  1\n",
      "\n",
      "   A  B  C\n",
      "0  1  1  1\n",
      "1  1  1  1\n",
      "2  1  1  1\n"
     ]
    }
   ],
   "source": [
    "df1 = pd.DataFrame(np.array([[1, 1], [1, 1]]), columns = ['B', 'C'])\n",
    "df2 = pd.DataFrame(np.array([[1, 1, 1], [1, 1, 1], [1, 1, 1]]), columns = ['A', 'B', 'C'])\n",
    "\n",
    "print(df1)\n",
    "print()\n",
    "print(df2)"
   ]
  },
  {
   "cell_type": "code",
   "execution_count": 774,
   "metadata": {},
   "outputs": [
    {
     "name": "stdout",
     "output_type": "stream",
     "text": [
      "    A    B    C\n",
      "0 NaN  2.0  2.0\n",
      "1 NaN  2.0  2.0\n",
      "2 NaN  NaN  NaN\n"
     ]
    }
   ],
   "source": [
    "print(df1 + df2)"
   ]
  },
  {
   "cell_type": "markdown",
   "metadata": {},
   "source": [
    "Note how the labels of both the columns and the rows are different, such that when added we get NaN values for all besides the two that match which are [0, 'B'] and [0, 'C']"
   ]
  },
  {
   "cell_type": "code",
   "execution_count": 775,
   "metadata": {},
   "outputs": [
    {
     "name": "stdout",
     "output_type": "stream",
     "text": [
      "   B  C\n",
      "0  1  1\n",
      "1  1  1\n",
      "\n",
      "   A  B  C\n",
      "0  1  1  1\n",
      "Y  1  1  1\n",
      "Z  1  1  1\n"
     ]
    }
   ],
   "source": [
    "df1 = pd.DataFrame(np.array([[1, 1], [1, 1]]), columns = ['B', 'C'])\n",
    "df2 = pd.DataFrame(np.array([[1, 1, 1], [1, 1, 1], [1, 1, 1]]), columns = ['A', 'B', 'C'], index = [0, 'Y', 'Z'])\n",
    "\n",
    "print(df1)\n",
    "print()\n",
    "print(df2)"
   ]
  },
  {
   "cell_type": "code",
   "execution_count": 776,
   "metadata": {},
   "outputs": [
    {
     "name": "stdout",
     "output_type": "stream",
     "text": [
      "    A    B    C\n",
      "0 NaN  2.0  2.0\n",
      "1 NaN  NaN  NaN\n",
      "Y NaN  NaN  NaN\n",
      "Z NaN  NaN  NaN\n"
     ]
    }
   ],
   "source": [
    "print(df1 + df2)"
   ]
  },
  {
   "cell_type": "markdown",
   "metadata": {},
   "source": [
    "> [!NOTE]\n",
    "> \n",
    "> *Arithmetic amongst DF's are done in alignment with the labels of the rows and columns*"
   ]
  },
  {
   "cell_type": "markdown",
   "metadata": {},
   "source": [
    "When combining a dataframe and a series, each labvel index of the series automatically matches with the column label of the DataFrame."
   ]
  },
  {
   "cell_type": "code",
   "execution_count": 777,
   "metadata": {},
   "outputs": [
    {
     "name": "stdout",
     "output_type": "stream",
     "text": [
      "0    1\n",
      "1    1\n",
      "dtype: int64\n",
      "\n",
      "   0  1  2\n",
      "A  1  1  1\n",
      "B  1  1  1\n",
      "C  1  1  1\n",
      "\n",
      "     0    1   2\n",
      "A  2.0  2.0 NaN\n",
      "B  2.0  2.0 NaN\n",
      "C  2.0  2.0 NaN\n"
     ]
    }
   ],
   "source": [
    "s1 = pd.Series([1, 1])\n",
    "df2 = pd.DataFrame(np.array([[1, 1, 1], [1, 1, 1], [1, 1, 1]]), columns = ['A', 'B', 'C']).T\n",
    "print(s1)\n",
    "print()\n",
    "print(df2)\n",
    "print()\n",
    "print(df2 + s1)"
   ]
  },
  {
   "cell_type": "code",
   "execution_count": 778,
   "metadata": {},
   "outputs": [
    {
     "data": {
      "text/plain": [
       "a    1\n",
       "b    0\n",
       "c    3\n",
       "dtype: int64"
      ]
     },
     "execution_count": 778,
     "metadata": {},
     "output_type": "execute_result"
    }
   ],
   "source": [
    "s1 = pd.Series([1, 2, 3], index = ['a', 'b', 'c'])\n",
    "s2 = pd.Series([1, 3, 5], index = ['b', 'a', 'c'])\n",
    "\n",
    "np.remainder(s1, s2)"
   ]
  },
  {
   "cell_type": "code",
   "execution_count": 779,
   "metadata": {},
   "outputs": [
    {
     "name": "stdout",
     "output_type": "stream",
     "text": [
      "                 0       1       2       3       4       5       6       7       8       9       10      11      12      13      14      15      16      17      18      19      20      21      22      23      24      25      26      27      28      29      30      31      32      33      34      35      36      37      38      39      40      41      42      43      44      45      46      47      48      49          50          51          52          53          54          55          56          57          58          59          60          61          62          63          64          65          66          67          68          69          70          71          72          73          74          75          76          77          78          79          80          81          82          83          84          85          86          87          88          89          90          91          92          93          94          95          96          97          98          99         100        101        102        103        104        105        106        107        108        109        110        111        112        113        114        115        116        117        118        119        120        121        122        123        124        125        126        127        128        129        130        131        132        133        134        135        136        137        138        139        140        141        142        143        144        145        146        147        148        149\n",
      "sepal_length     5.1     4.9     4.7     4.6     5.0     5.4     4.6     5.0     4.4     4.9     5.4     4.8     4.8     4.3     5.8     5.7     5.4     5.1     5.7     5.1     5.4     5.1     4.6     5.1     4.8     5.0     5.0     5.2     5.2     4.7     4.8     5.4     5.2     5.5     4.9     5.0     5.5     4.9     4.4     5.1     5.0     4.5     4.4     5.0     5.1     4.8     5.1     4.6     5.3     5.0         7.0         6.4         6.9         5.5         6.5         5.7         6.3         4.9         6.6         5.2         5.0         5.9         6.0         6.1         5.6         6.7         5.6         5.8         6.2         5.6         5.9         6.1         6.3         6.1         6.4         6.6         6.8         6.7         6.0         5.7         5.5         5.5         5.8         6.0         5.4         6.0         6.7         6.3         5.6         5.5         5.5         6.1         5.8         5.0         5.6         5.7         5.7         6.2         5.1         5.7        6.3        5.8        7.1        6.3        6.5        7.6        4.9        7.3        6.7        7.2        6.5        6.4        6.8        5.7        5.8        6.4        6.5        7.7        7.7        6.0        6.9        5.6        7.7        6.3        6.7        7.2        6.2        6.1        6.4        7.2        7.4        7.9        6.4        6.3        6.1        7.7        6.3        6.4        6.0        6.9        6.7        6.9        5.8        6.8        6.7        6.7        6.3        6.5        6.2        5.9\n",
      "sepal_width      3.5     3.0     3.2     3.1     3.6     3.9     3.4     3.4     2.9     3.1     3.7     3.4     3.0     3.0     4.0     4.4     3.9     3.5     3.8     3.8     3.4     3.7     3.6     3.3     3.4     3.0     3.4     3.5     3.4     3.2     3.1     3.4     4.1     4.2     3.1     3.2     3.5     3.6     3.0     3.4     3.5     2.3     3.2     3.5     3.8     3.0     3.8     3.2     3.7     3.3         3.2         3.2         3.1         2.3         2.8         2.8         3.3         2.4         2.9         2.7         2.0         3.0         2.2         2.9         2.9         3.1         3.0         2.7         2.2         2.5         3.2         2.8         2.5         2.8         2.9         3.0         2.8         3.0         2.9         2.6         2.4         2.4         2.7         2.7         3.0         3.4         3.1         2.3         3.0         2.5         2.6         3.0         2.6         2.3         2.7         3.0         2.9         2.9         2.5         2.8        3.3        2.7        3.0        2.9        3.0        3.0        2.5        2.9        2.5        3.6        3.2        2.7        3.0        2.5        2.8        3.2        3.0        3.8        2.6        2.2        3.2        2.8        2.8        2.7        3.3        3.2        2.8        3.0        2.8        3.0        2.8        3.8        2.8        2.8        2.6        3.0        3.4        3.1        3.0        3.1        3.1        3.1        2.7        3.2        3.3        3.0        2.5        3.0        3.4        3.0\n",
      "petal_length     1.4     1.4     1.3     1.5     1.4     1.7     1.4     1.5     1.4     1.5     1.5     1.6     1.4     1.1     1.2     1.5     1.3     1.4     1.7     1.5     1.7     1.5     1.0     1.7     1.9     1.6     1.6     1.5     1.4     1.6     1.6     1.5     1.5     1.4     1.5     1.2     1.3     1.4     1.3     1.5     1.3     1.3     1.3     1.6     1.9     1.4     1.6     1.4     1.5     1.4         4.7         4.5         4.9         4.0         4.6         4.5         4.7         3.3         4.6         3.9         3.5         4.2         4.0         4.7         3.6         4.4         4.5         4.1         4.5         3.9         4.8         4.0         4.9         4.7         4.3         4.4         4.8         5.0         4.5         3.5         3.8         3.7         3.9         5.1         4.5         4.5         4.7         4.4         4.1         4.0         4.4         4.6         4.0         3.3         4.2         4.2         4.2         4.3         3.0         4.1        6.0        5.1        5.9        5.6        5.8        6.6        4.5        6.3        5.8        6.1        5.1        5.3        5.5        5.0        5.1        5.3        5.5        6.7        6.9        5.0        5.7        4.9        6.7        4.9        5.7        6.0        4.8        4.9        5.6        5.8        6.1        6.4        5.6        5.1        5.6        6.1        5.6        5.5        4.8        5.4        5.6        5.1        5.1        5.9        5.7        5.2        5.0        5.2        5.4        5.1\n",
      "petal_width      0.2     0.2     0.2     0.2     0.2     0.4     0.3     0.2     0.2     0.1     0.2     0.2     0.1     0.1     0.2     0.4     0.4     0.3     0.3     0.3     0.2     0.4     0.2     0.5     0.2     0.2     0.4     0.2     0.2     0.2     0.2     0.4     0.1     0.2     0.2     0.2     0.2     0.1     0.2     0.2     0.3     0.3     0.2     0.6     0.4     0.3     0.2     0.2     0.2     0.2         1.4         1.5         1.5         1.3         1.5         1.3         1.6         1.0         1.3         1.4         1.0         1.5         1.0         1.4         1.3         1.4         1.5         1.0         1.5         1.1         1.8         1.3         1.5         1.2         1.3         1.4         1.4         1.7         1.5         1.0         1.1         1.0         1.2         1.6         1.5         1.6         1.5         1.3         1.3         1.3         1.2         1.4         1.2         1.0         1.3         1.2         1.3         1.3         1.1         1.3        2.5        1.9        2.1        1.8        2.2        2.1        1.7        1.8        1.8        2.5        2.0        1.9        2.1        2.0        2.4        2.3        1.8        2.2        2.3        1.5        2.3        2.0        2.0        1.8        2.1        1.8        1.8        1.8        2.1        1.6        1.9        2.0        2.2        1.5        1.4        2.3        2.4        1.8        1.8        2.1        2.4        2.3        1.9        2.3        2.5        2.3        1.9        2.0        2.3        1.8\n",
      "species       setosa  setosa  setosa  setosa  setosa  setosa  setosa  setosa  setosa  setosa  setosa  setosa  setosa  setosa  setosa  setosa  setosa  setosa  setosa  setosa  setosa  setosa  setosa  setosa  setosa  setosa  setosa  setosa  setosa  setosa  setosa  setosa  setosa  setosa  setosa  setosa  setosa  setosa  setosa  setosa  setosa  setosa  setosa  setosa  setosa  setosa  setosa  setosa  setosa  setosa  versicolor  versicolor  versicolor  versicolor  versicolor  versicolor  versicolor  versicolor  versicolor  versicolor  versicolor  versicolor  versicolor  versicolor  versicolor  versicolor  versicolor  versicolor  versicolor  versicolor  versicolor  versicolor  versicolor  versicolor  versicolor  versicolor  versicolor  versicolor  versicolor  versicolor  versicolor  versicolor  versicolor  versicolor  versicolor  versicolor  versicolor  versicolor  versicolor  versicolor  versicolor  versicolor  versicolor  versicolor  versicolor  versicolor  versicolor  versicolor  versicolor  versicolor  virginica  virginica  virginica  virginica  virginica  virginica  virginica  virginica  virginica  virginica  virginica  virginica  virginica  virginica  virginica  virginica  virginica  virginica  virginica  virginica  virginica  virginica  virginica  virginica  virginica  virginica  virginica  virginica  virginica  virginica  virginica  virginica  virginica  virginica  virginica  virginica  virginica  virginica  virginica  virginica  virginica  virginica  virginica  virginica  virginica  virginica  virginica  virginica  virginica  virginica\n"
     ]
    }
   ],
   "source": [
    "data = pd.read_csv('data/iris.csv').T\n",
    "print(data.to_string())"
   ]
  },
  {
   "cell_type": "markdown",
   "metadata": {},
   "source": [
    "# Play"
   ]
  },
  {
   "cell_type": "code",
   "execution_count": 780,
   "metadata": {},
   "outputs": [
    {
     "name": "stdout",
     "output_type": "stream",
     "text": [
      "Series 'Hello':\n",
      "a    10\n",
      "b    20\n",
      "c    30\n",
      "d    40\n",
      "Name: Hello, dtype: int64\n",
      "\n",
      "Hello at index 'c': 30\n"
     ]
    }
   ],
   "source": [
    "series = pd.Series(data = np.arange(start = 10,  stop = 50, step = 10), index = ['a', 'b', 'c', 'd'], name = 'Hello')\n",
    "\n",
    "print(f\"Series '{series.name}':\")\n",
    "print(series)\n",
    "print()\n",
    "\n",
    "print(f\"{series.name} at index 'c': {series.loc['c']}\")"
   ]
  },
  {
   "cell_type": "code",
   "execution_count": 781,
   "metadata": {},
   "outputs": [
    {
     "name": "stdout",
     "output_type": "stream",
     "text": [
      "Dataframe People:\n",
      "      Name  Age         City\n",
      "0    Alice   25     New York\n",
      "1      Bob   30  Los Angeles\n",
      "2  Charlie   35      Chicago\n",
      "\n",
      "People at column 'Age'\n",
      "0    25\n",
      "1    30\n",
      "2    35\n",
      "Name: Age, dtype: int64\n"
     ]
    }
   ],
   "source": [
    "data = {\n",
    "    'Name': ['Alice', 'Bob', 'Charlie'],\n",
    "    'Age': [25, 30, 35],\n",
    "    'City': ['New York', 'Los Angeles', 'Chicago']\n",
    "}\n",
    "\n",
    "dataframe = pd.DataFrame(data)\n",
    "dataframe.attrs['name'] = 'People'\n",
    "\n",
    "print(f\"Dataframe {dataframe.attrs['name']}:\")\n",
    "print(dataframe)\n",
    "print()\n",
    "\n",
    "print(f\"{dataframe.attrs['name']} at column 'Age'\")\n",
    "print(dataframe.loc[:, 'Age'])"
   ]
  },
  {
   "cell_type": "code",
   "execution_count": 782,
   "metadata": {},
   "outputs": [
    {
     "name": "stdout",
     "output_type": "stream",
     "text": [
      "   A  B\n",
      "x  1  4\n",
      "y  2  5\n",
      "z  3  6\n",
      "\n",
      "ILOC:\n",
      "A    2\n",
      "B    5\n",
      "Name: y, dtype: int64\n",
      "\n",
      "ILOC:\n",
      "A    2\n",
      "B    5\n",
      "Name: y, dtype: int64\n"
     ]
    }
   ],
   "source": [
    "df = pd.DataFrame({\n",
    "    'A': [1, 2, 3],\n",
    "    'B': [4, 5, 6]\n",
    "}, index=['x', 'y', 'z'])\n",
    "\n",
    "print(df)\n",
    "print()\n",
    "print(f\"ILOC:\\n{df.loc['y']}\\n\")\n",
    "print(f\"ILOC:\\n{df.iloc[1]}\")"
   ]
  },
  {
   "cell_type": "code",
   "execution_count": 783,
   "metadata": {},
   "outputs": [
    {
     "name": "stdout",
     "output_type": "stream",
     "text": [
      "DataFrame\n",
      "           0         1         2         3         4\n",
      "0  -0.116503  0.831895  1.234120  0.754091  0.432358\n",
      "1  -0.679768 -0.255101 -1.342611 -0.169630  0.016976\n",
      "2   2.095852  0.334302 -0.865249  0.163043  0.365603\n",
      "3   0.326044 -0.166129 -0.179732  0.771494  1.454527\n",
      "4   0.144160  1.230908 -1.147613 -0.142578  0.795627\n",
      "..       ...       ...       ...       ...       ...\n",
      "95  2.857114  1.799255  0.837647  0.377799 -0.505069\n",
      "96  1.145158 -1.408684 -2.579466 -0.019864  0.314572\n",
      "97 -0.173368  0.578501  0.182681  2.021466 -1.612565\n",
      "98  1.645869 -0.356312 -0.222742  1.537413 -0.829323\n",
      "99 -0.202511  1.500822 -1.555864  0.341969  0.091389\n",
      "\n",
      "[100 rows x 5 columns]\n",
      "Shape:\n",
      "(100, 5)\n",
      "\n",
      "First 3 Rows\n",
      "          0         1         2         3         4\n",
      "0 -0.116503  0.831895  1.234120  0.754091  0.432358\n",
      "1 -0.679768 -0.255101 -1.342611 -0.169630  0.016976\n",
      "2  2.095852  0.334302 -0.865249  0.163043  0.365603\n"
     ]
    }
   ],
   "source": [
    "# 4. df.shape will return (100, 5) and df.head(3) will return the first 3 rows.\n",
    "\n",
    "df = pd.DataFrame(np.random.randn(100, 5))\n",
    "\n",
    "print(\"DataFrame\")\n",
    "print(df)\n",
    "\n",
    "print(\"Shape:\")\n",
    "print(df.shape)\n",
    "print()\n",
    "print(\"First 3 Rows\")\n",
    "print(df.head(3))\n",
    "\n"
   ]
  },
  {
   "cell_type": "code",
   "execution_count": 784,
   "metadata": {},
   "outputs": [
    {
     "name": "stdout",
     "output_type": "stream",
     "text": [
      "Series:\n",
      "A    7\n",
      "B    8\n",
      "C    9\n",
      "dtype: int64\n",
      "\n",
      "First two values: \n",
      "A    7\n",
      "B    8\n",
      "dtype: int64\n",
      "\n",
      "Last value:\n",
      "C    9\n",
      "dtype: int64\n",
      "\n"
     ]
    }
   ],
   "source": [
    "# s.head(2) will return the first 2 values. s.tail(1) will return the last value\n",
    "\n",
    "\n",
    "\n",
    "s = pd.Series([7, 8, 9], index=['A', 'B', 'C'])\n",
    "\n",
    "print('Series:')\n",
    "print(s)\n",
    "print()\n",
    "\n",
    "print(f\"First two values: \\n{s.head(2)}\\n\")\n",
    "print(f\"Last value:\\n{s.tail(1)}\\n\")\n"
   ]
  },
  {
   "cell_type": "markdown",
   "metadata": {},
   "source": [
    "# More basic functionality"
   ]
  },
  {
   "cell_type": "code",
   "execution_count": 785,
   "metadata": {},
   "outputs": [
    {
     "name": "stdout",
     "output_type": "stream",
     "text": [
      "          0         1         2         3         4\n",
      "0  0.369494  1.963846  0.179076 -0.455118  0.999962\n",
      "1  0.106848 -0.103569  0.565814  0.367478 -0.330119\n",
      "2  0.644167  1.308286  0.787749  1.160945  0.845189\n",
      "3 -0.053971  1.339710 -0.306350 -0.413817  1.204890\n",
      "4  0.890573 -0.244748 -0.405191  1.391446  0.738002\n",
      "\n",
      "Shape(5, 5)\n",
      "\n",
      "DF with new column names\n",
      "          a         b         c         d         e\n",
      "0  0.369494  1.963846  0.179076 -0.455118  0.999962\n",
      "1  0.106848 -0.103569  0.565814  0.367478 -0.330119\n",
      "2  0.644167  1.308286  0.787749  1.160945  0.845189\n",
      "3 -0.053971  1.339710 -0.306350 -0.413817  1.204890\n",
      "4  0.890573 -0.244748 -0.405191  1.391446  0.738002\n"
     ]
    }
   ],
   "source": [
    "df = pd.DataFrame(np.random.randn(5, 5))\n",
    "print(df)\n",
    "print(f\"\\nShape{df.shape}\\n\")\n",
    "\n",
    "# df.shape = (3, 3) # Attribute error, DataFrame.shape is read only\n",
    "\n",
    "print(f\"DF with new column names\")\n",
    "\n",
    "df.columns = ['a', 'b', 'c', 'd', 'e']\n",
    "print(df)"
   ]
  },
  {
   "cell_type": "markdown",
   "metadata": {},
   "source": [
    "When converting a df to ndarray using to_numpy(), editing the resulting ndarray provided by to_numpy() will change the original dataframe. Only true for homogeneous array / dataframes."
   ]
  },
  {
   "cell_type": "code",
   "execution_count": 786,
   "metadata": {},
   "outputs": [
    {
     "name": "stdout",
     "output_type": "stream",
     "text": [
      "DF:\n",
      "          0         1         2         3         4\n",
      "0  0.832903 -1.501105  1.112483  1.094856 -0.220738\n",
      "1 -2.138615  0.818698  0.474559  0.884259  0.505790\n",
      "2 -0.546287  1.022558 -1.783485  0.183639 -1.284571\n",
      "3 -0.473128 -0.137765  0.074343 -0.400110 -0.365764\n",
      "4 -0.493099  0.919478  0.397552  1.189579 -1.861261\n",
      "\n",
      "NDARRAY OF DF\n",
      "[[ 0.83290322 -1.50110507  1.11248286  1.09485573 -0.2207383 ]\n",
      " [-2.13861548  0.81869821  0.47455911  0.88425881  0.50578967]\n",
      " [-0.54628724  1.02255807 -1.78348526  0.18363936 -1.28457097]\n",
      " [-0.47312782 -0.13776473  0.07434318 -0.40011007 -0.36576401]\n",
      " [-0.49309881  0.91947814  0.39755161  1.18957948 -1.86126136]]\n",
      "\n",
      "MODIFED VERSION OF NDARRAY\n",
      "[[10.         10.         10.         10.         10.        ]\n",
      " [-2.13861548  0.81869821  0.47455911  0.88425881  0.50578967]\n",
      " [-0.54628724  1.02255807 -1.78348526  0.18363936 -1.28457097]\n",
      " [-0.47312782 -0.13776473  0.07434318 -0.40011007 -0.36576401]\n",
      " [-0.49309881  0.91947814  0.39755161  1.18957948 -1.86126136]]\n",
      "\n",
      "MODIFIED DF:\n",
      "           0          1          2          3          4\n",
      "0  10.000000  10.000000  10.000000  10.000000  10.000000\n",
      "1  -2.138615   0.818698   0.474559   0.884259   0.505790\n",
      "2  -0.546287   1.022558  -1.783485   0.183639  -1.284571\n",
      "3  -0.473128  -0.137765   0.074343  -0.400110  -0.365764\n",
      "4  -0.493099   0.919478   0.397552   1.189579  -1.861261\n"
     ]
    }
   ],
   "source": [
    "df = pd.DataFrame(np.random.randn(5, 5))\n",
    "\n",
    "print('DF:')\n",
    "print(df)\n",
    "print()\n",
    "\n",
    "print('NDARRAY OF DF')\n",
    "print(df.to_numpy())\n",
    "print()\n",
    "\n",
    "npdf = df.to_numpy()\n",
    "npdf[0, :] = 10\n",
    "\n",
    "print('MODIFED VERSION OF NDARRAY')\n",
    "print(npdf)\n",
    "print()\n",
    "\n",
    "print('MODIFIED DF:')\n",
    "print(df)"
   ]
  },
  {
   "cell_type": "code",
   "execution_count": 787,
   "metadata": {},
   "outputs": [
    {
     "name": "stdout",
     "output_type": "stream",
     "text": [
      "DF:\n",
      "          0         1         2         3         4      5\n",
      "0 -0.313884 -0.125907 -1.578457  0.098918  1.693509    NaN\n",
      "1  1.426816  0.654617 -0.603562 -3.035202  0.152815    NaN\n",
      "2 -0.083070 -0.027167 -0.551952 -2.047868  0.378545    NaN\n",
      "3 -0.424706 -1.312694 -0.177202 -1.502278 -0.242833    NaN\n",
      "4  0.109339  0.918594 -1.864341  0.551352  0.712183    NaN\n",
      "5       NaN       NaN       NaN       NaN       NaN  hello\n",
      "\n",
      "NDARRAY OF DF\n",
      "[[-0.3138840111351728 -0.12590721220834603 -1.5784574831660478\n",
      "  0.09891781163386655 1.6935085284753604 nan]\n",
      " [1.426815969183286 0.6546170697254089 -0.6035620116444785\n",
      "  -3.0352017575067034 0.15281478193940334 nan]\n",
      " [-0.08307040583427681 -0.027167372540137083 -0.551952013089347\n",
      "  -2.0478683382543985 0.37854462088275825 nan]\n",
      " [-0.4247062857162334 -1.3126940505344034 -0.17720165660043438\n",
      "  -1.50227843510936 -0.24283264962228288 nan]\n",
      " [0.10933929837581002 0.918594353656509 -1.8643406439645296\n",
      "  0.5513519295384942 0.7121825907813073 nan]\n",
      " [nan nan nan nan nan 'hello']]\n",
      "\n",
      "MODIFED VERSION OF NDARRAY\n",
      "[[10 10 10 10 10 10]\n",
      " [1.426815969183286 0.6546170697254089 -0.6035620116444785\n",
      "  -3.0352017575067034 0.15281478193940334 nan]\n",
      " [-0.08307040583427681 -0.027167372540137083 -0.551952013089347\n",
      "  -2.0478683382543985 0.37854462088275825 nan]\n",
      " [-0.4247062857162334 -1.3126940505344034 -0.17720165660043438\n",
      "  -1.50227843510936 -0.24283264962228288 nan]\n",
      " [0.10933929837581002 0.918594353656509 -1.8643406439645296\n",
      "  0.5513519295384942 0.7121825907813073 nan]\n",
      " [nan nan nan nan nan 'hello']]\n",
      "\n",
      "MODIFIED DF:\n",
      "          0         1         2         3         4      5\n",
      "0 -0.313884 -0.125907 -1.578457  0.098918  1.693509    NaN\n",
      "1  1.426816  0.654617 -0.603562 -3.035202  0.152815    NaN\n",
      "2 -0.083070 -0.027167 -0.551952 -2.047868  0.378545    NaN\n",
      "3 -0.424706 -1.312694 -0.177202 -1.502278 -0.242833    NaN\n",
      "4  0.109339  0.918594 -1.864341  0.551352  0.712183    NaN\n",
      "5       NaN       NaN       NaN       NaN       NaN  hello\n"
     ]
    }
   ],
   "source": [
    "df = pd.DataFrame(np.random.randn(5, 5))\n",
    "df.loc[5, 5] = 'hello'\n",
    "\n",
    "print('DF:')\n",
    "print(df)\n",
    "print()\n",
    "\n",
    "print('NDARRAY OF DF')\n",
    "print(df.to_numpy())\n",
    "print()\n",
    "\n",
    "npdf = df.to_numpy()\n",
    "npdf[0, :] = 10\n",
    "\n",
    "print('MODIFED VERSION OF NDARRAY')\n",
    "print(npdf)\n",
    "print()\n",
    "\n",
    "print('MODIFIED DF:')\n",
    "print(df)"
   ]
  },
  {
   "cell_type": "code",
   "execution_count": 788,
   "metadata": {},
   "outputs": [
    {
     "name": "stdout",
     "output_type": "stream",
     "text": [
      "   0  1  2\n",
      "0  1  2  3\n",
      "1  4  5  6\n",
      "\n",
      "0    1\n",
      "1    1\n",
      "2    1\n",
      "dtype: int64\n"
     ]
    },
    {
     "data": {
      "text/html": [
       "<div>\n",
       "<style scoped>\n",
       "    .dataframe tbody tr th:only-of-type {\n",
       "        vertical-align: middle;\n",
       "    }\n",
       "\n",
       "    .dataframe tbody tr th {\n",
       "        vertical-align: top;\n",
       "    }\n",
       "\n",
       "    .dataframe thead th {\n",
       "        text-align: right;\n",
       "    }\n",
       "</style>\n",
       "<table border=\"1\" class=\"dataframe\">\n",
       "  <thead>\n",
       "    <tr style=\"text-align: right;\">\n",
       "      <th></th>\n",
       "      <th>0</th>\n",
       "      <th>1</th>\n",
       "      <th>2</th>\n",
       "    </tr>\n",
       "  </thead>\n",
       "  <tbody>\n",
       "    <tr>\n",
       "      <th>0</th>\n",
       "      <td>2</td>\n",
       "      <td>3</td>\n",
       "      <td>4</td>\n",
       "    </tr>\n",
       "    <tr>\n",
       "      <th>1</th>\n",
       "      <td>5</td>\n",
       "      <td>6</td>\n",
       "      <td>7</td>\n",
       "    </tr>\n",
       "  </tbody>\n",
       "</table>\n",
       "</div>"
      ],
      "text/plain": [
       "   0  1  2\n",
       "0  2  3  4\n",
       "1  5  6  7"
      ]
     },
     "execution_count": 788,
     "metadata": {},
     "output_type": "execute_result"
    }
   ],
   "source": [
    "df = pd.DataFrame([[1, 2, 3],[4, 5, 6]])\n",
    "series = pd.Series([1, 1, 1])\n",
    "\n",
    "\n",
    "print(df)\n",
    "print()\n",
    "print(series)\n",
    "\n",
    "df + series"
   ]
  },
  {
   "cell_type": "markdown",
   "metadata": {},
   "source": [
    "In default operations, without functions, the elements in the series are added elementwise to the columns. Will result in NaN values if the df has less columns than the len(series)"
   ]
  },
  {
   "cell_type": "code",
   "execution_count": 789,
   "metadata": {},
   "outputs": [
    {
     "name": "stdout",
     "output_type": "stream",
     "text": [
      "   0  1\n",
      "0  1  4\n",
      "1  2  5\n",
      "2  3  6\n",
      "\n",
      "0    1\n",
      "1    1\n",
      "2    1\n",
      "dtype: int64\n"
     ]
    },
    {
     "data": {
      "text/html": [
       "<div>\n",
       "<style scoped>\n",
       "    .dataframe tbody tr th:only-of-type {\n",
       "        vertical-align: middle;\n",
       "    }\n",
       "\n",
       "    .dataframe tbody tr th {\n",
       "        vertical-align: top;\n",
       "    }\n",
       "\n",
       "    .dataframe thead th {\n",
       "        text-align: right;\n",
       "    }\n",
       "</style>\n",
       "<table border=\"1\" class=\"dataframe\">\n",
       "  <thead>\n",
       "    <tr style=\"text-align: right;\">\n",
       "      <th></th>\n",
       "      <th>0</th>\n",
       "      <th>1</th>\n",
       "      <th>2</th>\n",
       "    </tr>\n",
       "  </thead>\n",
       "  <tbody>\n",
       "    <tr>\n",
       "      <th>0</th>\n",
       "      <td>2</td>\n",
       "      <td>5</td>\n",
       "      <td>NaN</td>\n",
       "    </tr>\n",
       "    <tr>\n",
       "      <th>1</th>\n",
       "      <td>3</td>\n",
       "      <td>6</td>\n",
       "      <td>NaN</td>\n",
       "    </tr>\n",
       "    <tr>\n",
       "      <th>2</th>\n",
       "      <td>4</td>\n",
       "      <td>7</td>\n",
       "      <td>NaN</td>\n",
       "    </tr>\n",
       "  </tbody>\n",
       "</table>\n",
       "</div>"
      ],
      "text/plain": [
       "   0  1   2\n",
       "0  2  5 NaN\n",
       "1  3  6 NaN\n",
       "2  4  7 NaN"
      ]
     },
     "execution_count": 789,
     "metadata": {},
     "output_type": "execute_result"
    }
   ],
   "source": [
    "df = pd.DataFrame([[1, 2, 3],[4, 5, 6]]).T\n",
    "series = pd.Series([1, 1, 1])\n",
    "\n",
    "\n",
    "print(df)\n",
    "print()\n",
    "print(series)\n",
    "\n",
    "df + series"
   ]
  },
  {
   "cell_type": "code",
   "execution_count": 790,
   "metadata": {},
   "outputs": [
    {
     "name": "stdout",
     "output_type": "stream",
     "text": [
      "   0  1  2\n",
      "0  1  2  3\n",
      "1  4  5  6\n",
      "\n",
      "0    1\n",
      "1    1\n",
      "2    1\n",
      "dtype: int64\n",
      "\n",
      "   0  1  2\n",
      "0  0  1  2\n",
      "1  3  4  5\n",
      "\n",
      "     0    1    2\n",
      "0  0.0  1.0  2.0\n",
      "1  3.0  4.0  5.0\n",
      "2  NaN  NaN  NaN\n"
     ]
    }
   ],
   "source": [
    "df = pd.DataFrame([[1, 2, 3],[4, 5, 6]])\n",
    "series = pd.Series([1, 1, 1])\n",
    "\n",
    "\n",
    "print(df)\n",
    "print()\n",
    "print(series)\n",
    "print()\n",
    "print(df.sub(series))\n",
    "print()\n",
    "print(df.sub(series,  axis = 0))"
   ]
  },
  {
   "cell_type": "code",
   "execution_count": 791,
   "metadata": {},
   "outputs": [
    {
     "name": "stdout",
     "output_type": "stream",
     "text": [
      "     0    1    2\n",
      "0  2.0  3.0  4.0\n",
      "1  5.0  6.0  7.0\n",
      "2  wtf  wtf  wtf\n"
     ]
    }
   ],
   "source": [
    "#print(df.add(series, axis = 0, fill_value = 'WTF0'))\n",
    "\n",
    "df = pd.DataFrame([[1, 2, 3],[4, 5, 6]])\n",
    "df2 = pd.DataFrame([[1, 1, 1], [1, 1, 1], [2, 2, 2]])\n",
    "\n",
    "print(df2.add(df).fillna('wtf'))"
   ]
  },
  {
   "cell_type": "code",
   "execution_count": 792,
   "metadata": {},
   "outputs": [
    {
     "name": "stdout",
     "output_type": "stream",
     "text": [
      "   0  1  2\n",
      "0  1  1  1\n",
      "1  6  1  1\n",
      "2  9  2  2\n",
      "\n",
      "False\n",
      "\n",
      "0    False\n",
      "1     True\n",
      "2     True\n",
      "dtype: bool\n",
      "\n",
      "0    False\n",
      "1    False\n",
      "2    False\n",
      "dtype: bool\n"
     ]
    }
   ],
   "source": [
    "df2 = pd.DataFrame([[1, 1, 1], [6, 1, 1], [9, 2, 2]])\n",
    "\n",
    "print(df2)\n",
    "print()\n",
    "print(df2.empty) # is the dataframe empty?\n",
    "print()\n",
    "print((df2 > 4).any(axis = 1))\n",
    "print()\n",
    "print((df2 > 4).all(axis = 1))"
   ]
  },
  {
   "cell_type": "code",
   "execution_count": 793,
   "metadata": {},
   "outputs": [
    {
     "name": "stdout",
     "output_type": "stream",
     "text": [
      "0       1\n",
      "1       2\n",
      "2       6\n",
      "3      24\n",
      "4     120\n",
      "5     720\n",
      "6    5040\n",
      "dtype: int64\n",
      "\n",
      "0     1\n",
      "1     3\n",
      "2     6\n",
      "3    10\n",
      "4    15\n",
      "5    21\n",
      "6    28\n",
      "dtype: int64\n"
     ]
    }
   ],
   "source": [
    "series = pd.Series([1, 2, 3, 4, 5, 6, 7])\n",
    "print(series.cumprod())\n",
    "print()\n",
    "print(series.cumsum())"
   ]
  },
  {
   "cell_type": "code",
   "execution_count": 794,
   "metadata": {},
   "outputs": [
    {
     "name": "stdout",
     "output_type": "stream",
     "text": [
      "          0         1         2\n",
      "0  1.490002 -0.777403  2.374111\n",
      "1  0.946467 -0.349183 -1.783298\n",
      "2 -2.168071 -0.369750  1.088318\n"
     ]
    }
   ],
   "source": [
    "df = pd.DataFrame(np.random.randn(3, 3))\n",
    "print(df)"
   ]
  },
  {
   "cell_type": "code",
   "execution_count": 823,
   "metadata": {},
   "outputs": [
    {
     "name": "stdout",
     "output_type": "stream",
     "text": [
      "          0         1         2\n",
      "0  0.489743  0.871131  0.225641\n",
      "1  0.582761 -1.534673  1.372107\n",
      "2 -1.594214 -0.594730 -0.287107\n",
      "\n",
      "          0         1         2\n",
      "1  0.582761 -1.534673  1.372107\n",
      "2 -1.594214 -0.594730 -0.287107\n"
     ]
    }
   ],
   "source": [
    "df = pd.DataFrame(np.random.randn(3, 3))\n",
    "print(df)\n",
    "print()\n",
    "df.columns = df.columns.astype(str)\n",
    "print(df.query('`2` > `1`'))\n"
   ]
  },
  {
   "cell_type": "code",
   "execution_count": null,
   "metadata": {},
   "outputs": [],
   "source": []
  },
  {
   "cell_type": "code",
   "execution_count": null,
   "metadata": {},
   "outputs": [],
   "source": []
  }
 ],
 "metadata": {
  "kernelspec": {
   "display_name": "base",
   "language": "python",
   "name": "python3"
  },
  "language_info": {
   "codemirror_mode": {
    "name": "ipython",
    "version": 3
   },
   "file_extension": ".py",
   "mimetype": "text/x-python",
   "name": "python",
   "nbconvert_exporter": "python",
   "pygments_lexer": "ipython3",
   "version": "3.12.2"
  }
 },
 "nbformat": 4,
 "nbformat_minor": 2
}
