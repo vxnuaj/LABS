{
 "cells": [
  {
   "cell_type": "code",
   "execution_count": 1,
   "metadata": {},
   "outputs": [],
   "source": [
    "import pandas as pd\n",
    "import numpy as np"
   ]
  },
  {
   "cell_type": "code",
   "execution_count": 2,
   "metadata": {},
   "outputs": [],
   "source": [
    "x = pd.Series([[1, 2, 3], [2, 3, 'hi']])\n",
    "y = np.array([[1, 2, 3], [4, 5, 6]])"
   ]
  },
  {
   "cell_type": "markdown",
   "metadata": {},
   "source": [
    "First column printed is the Index.\n",
    "The next columns are the values itself.\n",
    "\n",
    "https://pandas.pydata.org/pandas-docs/stable/reference/api/pandas.Series.html"
   ]
  },
  {
   "cell_type": "code",
   "execution_count": 3,
   "metadata": {},
   "outputs": [
    {
     "name": "stdout",
     "output_type": "stream",
     "text": [
      "<class 'pandas.core.series.Series'>:\n",
      "0     [1, 2, 3]\n",
      "1    [2, 3, hi]\n",
      "dtype: object\n",
      "\n",
      "<class 'numpy.ndarray'>:\n",
      "[[1 2 3]\n",
      " [4 5 6]]\n",
      "\n"
     ]
    }
   ],
   "source": [
    "print(f'{type(x)}:\\n{x}\\n')\n",
    "print(f'{type(y)}:\\n{y}\\n')"
   ]
  },
  {
   "cell_type": "markdown",
   "metadata": {},
   "source": [
    "Printing the NDArray of the Series, `x`, and it's `x.shape`"
   ]
  },
  {
   "cell_type": "code",
   "execution_count": 4,
   "metadata": {},
   "outputs": [
    {
     "name": "stdout",
     "output_type": "stream",
     "text": [
      "<class 'numpy.ndarray'> :\n",
      "[list([1, 2, 3]) list([2, 3, 'hi'])]\n",
      "Shape: (2,)\n"
     ]
    }
   ],
   "source": [
    "print(type(x.to_numpy()),':')\n",
    "print(x.to_numpy())\n",
    "print(f\"Shape: {x.to_numpy().shape}\")"
   ]
  },
  {
   "cell_type": "markdown",
   "metadata": {},
   "source": [
    "`.tolist()` method in PD series turns a series into a list where each row of the series is an element of the list."
   ]
  },
  {
   "cell_type": "code",
   "execution_count": 5,
   "metadata": {},
   "outputs": [
    {
     "name": "stdout",
     "output_type": "stream",
     "text": [
      "[[1, 2, 3], [2, 3, 'hi']]\n",
      "[['1' '2' '3']\n",
      " ['2' '3' 'hi']]\n"
     ]
    }
   ],
   "source": [
    "x_list = x.tolist()\n",
    "print(x_list)\n",
    "arr = np.array(x.tolist())\n",
    "print(arr)"
   ]
  },
  {
   "cell_type": "markdown",
   "metadata": {},
   "source": [
    "Note how we can't have an ndarray of multiple types, so the numbers automatically get converted into strings"
   ]
  },
  {
   "cell_type": "markdown",
   "metadata": {},
   "source": [
    "`.tail()` and `head()` returns the first and last 5 elements respectively. As default. Or you can set a custom return value."
   ]
  },
  {
   "cell_type": "code",
   "execution_count": 6,
   "metadata": {},
   "outputs": [
    {
     "name": "stdout",
     "output_type": "stream",
     "text": [
      "Head:\n",
      "0    1\n",
      "1    2\n",
      "2    3\n",
      "3    4\n",
      "4    5\n",
      "dtype: int64\n",
      "\n",
      "Tail:\n",
      "5     6\n",
      "6     7\n",
      "7     8\n",
      "8     9\n",
      "9    10\n",
      "dtype: int64\n",
      "\n",
      "First 3:\n",
      "0    1\n",
      "1    2\n",
      "2    3\n",
      "dtype: int64\n"
     ]
    }
   ],
   "source": [
    "x = pd.Series([1, 2, 3, 4, 5, 6, 7, 8, 9, 10])\n",
    "\n",
    "print(f\"Head:\\n{x.head()}\\n\")\n",
    "print(f\"Tail:\\n{x.tail()}\\n\")\n",
    "print(f\"First 3:\\n{x.head(3)}\")"
   ]
  },
  {
   "cell_type": "markdown",
   "metadata": {},
   "source": [
    "We can also make a series from a dictionary where the keys in the dict get converted into the indices."
   ]
  },
  {
   "cell_type": "code",
   "execution_count": 7,
   "metadata": {},
   "outputs": [
    {
     "name": "stdout",
     "output_type": "stream",
     "text": [
      "One      1\n",
      "Two      2\n",
      "Three    3\n",
      "dtype: int64\n"
     ]
    }
   ],
   "source": [
    "data = {'One': 1, 'Two': 2, 'Three': 3}\n",
    "y = pd.Series(data)\n",
    "print(y)"
   ]
  },
  {
   "cell_type": "code",
   "execution_count": 8,
   "metadata": {},
   "outputs": [
    {
     "name": "stdout",
     "output_type": "stream",
     "text": [
      "0      goku\n",
      "1    vegeta\n",
      "2     broly\n",
      "dtype: string\n"
     ]
    }
   ],
   "source": [
    "x = pd.Series(['goku', 'vegeta', 'broly'], dtype = 'string')\n",
    "print(x)"
   ]
  },
  {
   "cell_type": "markdown",
   "metadata": {},
   "source": [
    "Then you can also make a series from an ndarray.\n",
    "\n",
    "Note that an ndarray with $n > 1$ dimensions has be flattened to 1d $(n = 1)$ to be turnt into a series.\n",
    "\n",
    "A series is a one-dimensional obejct that can hold any data type. It is part of a bigger `pd.DataFrame`."
   ]
  },
  {
   "cell_type": "code",
   "execution_count": 30,
   "metadata": {},
   "outputs": [
    {
     "name": "stdout",
     "output_type": "stream",
     "text": [
      "X_array:\n",
      "[[[ 1  2  3]\n",
      "  [10 11 10]]\n",
      "\n",
      " [[ 0  1  3]\n",
      "  [ 5  2  3]]]\n",
      "Shape:(2, 2, 3)\n",
      "\n",
      "X_series:\n",
      "0      1\n",
      "1      2\n",
      "2      3\n",
      "3     10\n",
      "4     11\n",
      "5     10\n",
      "6      0\n",
      "7      1\n",
      "8      3\n",
      "9      5\n",
      "10     2\n",
      "11     3\n",
      "dtype: int64\n",
      "\n",
      "Shape: (12,)\n"
     ]
    }
   ],
   "source": [
    "x = np.array([[[1, 2, 3], [10, 11, 10]], [[0, 1, 3], [5, 2, 3]]])\n",
    "print(f\"X_array:\\n{x}\")\n",
    "print(f\"Shape:{x.shape}\\n\")\n",
    "print(f'X_series:\\n{pd.Series(x.flatten().tolist())}\\n')\n",
    "print(f\"Shape: {pd.Series(x.flatten().tolist()).shape}\")"
   ]
  },
  {
   "cell_type": "code",
   "execution_count": 16,
   "metadata": {},
   "outputs": [
    {
     "name": "stdout",
     "output_type": "stream",
     "text": [
      "ndarray:\n",
      "[ 0.          0.52631579  1.05263158  1.57894737  2.10526316  2.63157895\n",
      "  3.15789474  3.68421053  4.21052632  4.73684211  5.26315789  5.78947368\n",
      "  6.31578947  6.84210526  7.36842105  7.89473684  8.42105263  8.94736842\n",
      "  9.47368421 10.        ]\n",
      "\n",
      "pdseries:\n",
      "0      0.000000\n",
      "1      0.526316\n",
      "2      1.052632\n",
      "3      1.578947\n",
      "4      2.105263\n",
      "5      2.631579\n",
      "6      3.157895\n",
      "7      3.684211\n",
      "8      4.210526\n",
      "9      4.736842\n",
      "10     5.263158\n",
      "11     5.789474\n",
      "12     6.315789\n",
      "13     6.842105\n",
      "14     7.368421\n",
      "15     7.894737\n",
      "16     8.421053\n",
      "17     8.947368\n",
      "18     9.473684\n",
      "19    10.000000\n",
      "dtype: float64\n",
      "\n"
     ]
    }
   ],
   "source": [
    "print(f\"ndarray:\\n{np.linspace(start = 0, stop = 10, num = 20)}\\n\")\n",
    "print(f\"pdseries:\\n{pd.Series(np.linspace(start = 0, stop = 10, num = 20))}\\n\")"
   ]
  },
  {
   "cell_type": "code",
   "execution_count": null,
   "metadata": {},
   "outputs": [],
   "source": []
  }
 ],
 "metadata": {
  "kernelspec": {
   "display_name": "base",
   "language": "python",
   "name": "python3"
  },
  "language_info": {
   "codemirror_mode": {
    "name": "ipython",
    "version": 3
   },
   "file_extension": ".py",
   "mimetype": "text/x-python",
   "name": "python",
   "nbconvert_exporter": "python",
   "pygments_lexer": "ipython3",
   "version": "3.12.2"
  }
 },
 "nbformat": 4,
 "nbformat_minor": 2
}
