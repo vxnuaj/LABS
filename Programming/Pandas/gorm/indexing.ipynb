{
 "cells": [
  {
   "cell_type": "code",
   "execution_count": 9,
   "metadata": {},
   "outputs": [],
   "source": [
    "import numpy as np\n",
    "import pandas as pd\n"
   ]
  },
  {
   "cell_type": "markdown",
   "metadata": {},
   "source": [
    "You can index series as done with numpy arrays.\n",
    "\n",
    "But the indices can be altered, thereby indexing returns values based on the altered indices."
   ]
  },
  {
   "cell_type": "code",
   "execution_count": 10,
   "metadata": {},
   "outputs": [
    {
     "name": "stdout",
     "output_type": "stream",
     "text": [
      "4     5\n",
      "3    10\n",
      "2    15\n",
      "1    20\n",
      "0    25\n",
      "dtype: int64\n"
     ]
    }
   ],
   "source": [
    "x = pd.Series([5, 10, 15, 20, 25], [4, 3, 2, 1, 0])\n",
    "print(x)"
   ]
  },
  {
   "cell_type": "code",
   "execution_count": 11,
   "metadata": {},
   "outputs": [
    {
     "name": "stdout",
     "output_type": "stream",
     "text": [
      "25\n"
     ]
    }
   ],
   "source": [
    "print(x[0])"
   ]
  },
  {
   "cell_type": "markdown",
   "metadata": {},
   "source": [
    "Instead, you can use the `pd.iloc` property to truly index a pd.Series, rather than relying on the altered indices, behaving like regular numpy indexing"
   ]
  },
  {
   "cell_type": "code",
   "execution_count": 14,
   "metadata": {},
   "outputs": [
    {
     "name": "stdout",
     "output_type": "stream",
     "text": [
      "Return at Index 0\n",
      "5 \n",
      "\n",
      "Return each second row from rows 1 to 4\n",
      "3    10\n",
      "1    20\n",
      "dtype: int64\n"
     ]
    }
   ],
   "source": [
    "print('Return at Index 0')\n",
    "print(x.iloc[0],'\\n')\n",
    "print('Return each second row from rows 1 to 4')\n",
    "print(x.iloc[1:4:2])"
   ]
  },
  {
   "cell_type": "markdown",
   "metadata": {},
   "source": [
    "But if you have modified indices as strings and try to raw index, pandas will be smart and return the values using true indices as `.iloc` would."
   ]
  },
  {
   "cell_type": "code",
   "execution_count": 19,
   "metadata": {},
   "outputs": [
    {
     "name": "stdout",
     "output_type": "stream",
     "text": [
      "goku      1\n",
      "vegeta    2\n",
      "broly     3\n",
      "dtype: int64 \n",
      "\n",
      "x[0]: 1\n"
     ]
    },
    {
     "name": "stderr",
     "output_type": "stream",
     "text": [
      "/var/folders/48/l60ld_dj1kggcvhp0rsys4qm0000gn/T/ipykernel_46006/3312706306.py:4: FutureWarning: Series.__getitem__ treating keys as positions is deprecated. In a future version, integer keys will always be treated as labels (consistent with DataFrame behavior). To access a value by position, use `ser.iloc[pos]`\n",
      "  print(f'x[0]: {x[0]}')\n"
     ]
    }
   ],
   "source": [
    "x = pd.Series([1, 2, 3])\n",
    "x.index = ['goku', 'vegeta', 'broly']\n",
    "print(x, '\\n')\n",
    "print(f'x[0]: {x[0]}')"
   ]
  },
  {
   "cell_type": "markdown",
   "metadata": {},
   "source": [
    "This is why it's important to explicitly use iloc or loc in your code, so others and yourself don't get confused on the original implicit intention when indexing."
   ]
  },
  {
   "cell_type": "code",
   "execution_count": 23,
   "metadata": {},
   "outputs": [
    {
     "name": "stdout",
     "output_type": "stream",
     "text": [
      "index 0: 1\n",
      "index \"goku\": 1\n"
     ]
    }
   ],
   "source": [
    "print('index 0:', x.iloc[0])\n",
    "print('index \"goku\":', x.loc['goku'])"
   ]
  },
  {
   "cell_type": "markdown",
   "metadata": {},
   "source": [
    "And access ranges via labeled index as:\n",
    "\n",
    "> Note that this is inclusive of the last value. 'goku':'broly' will return the 'broly' value as well, not exclude it."
   ]
  },
  {
   "cell_type": "code",
   "execution_count": 24,
   "metadata": {},
   "outputs": [
    {
     "name": "stdout",
     "output_type": "stream",
     "text": [
      "goku      1\n",
      "vegeta    2\n",
      "broly     3\n",
      "dtype: int64\n"
     ]
    }
   ],
   "source": [
    "print(x.loc['goku':'broly'])"
   ]
  },
  {
   "cell_type": "markdown",
   "metadata": {},
   "source": [
    "You can easily overwrite values in series as:"
   ]
  },
  {
   "cell_type": "code",
   "execution_count": 26,
   "metadata": {},
   "outputs": [
    {
     "name": "stdout",
     "output_type": "stream",
     "text": [
      "goku      goat\n",
      "vegeta     mid\n",
      "broly      mid\n",
      "dtype: object\n"
     ]
    }
   ],
   "source": [
    "x.loc['goku'] = 'goat'\n",
    "x.loc['vegeta':'broly'] = 'mid'\n",
    "print(x)"
   ]
  },
  {
   "cell_type": "code",
   "execution_count": 28,
   "metadata": {},
   "outputs": [
    {
     "name": "stdout",
     "output_type": "stream",
     "text": [
      "goku      saiyans\n",
      "vegeta    saiyans\n",
      "broly     saiyans\n",
      "dtype: object\n"
     ]
    }
   ],
   "source": [
    "x.loc[:] = 'saiyans'\n",
    "print(x)"
   ]
  }
 ],
 "metadata": {
  "kernelspec": {
   "display_name": "base",
   "language": "python",
   "name": "python3"
  },
  "language_info": {
   "codemirror_mode": {
    "name": "ipython",
    "version": 3
   },
   "file_extension": ".py",
   "mimetype": "text/x-python",
   "name": "python",
   "nbconvert_exporter": "python",
   "pygments_lexer": "ipython3",
   "version": "3.12.2"
  }
 },
 "nbformat": 4,
 "nbformat_minor": 2
}
