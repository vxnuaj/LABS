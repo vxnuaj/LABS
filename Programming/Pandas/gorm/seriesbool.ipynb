{
 "cells": [
  {
   "cell_type": "code",
   "execution_count": 57,
   "metadata": {},
   "outputs": [],
   "source": [
    "import numpy as np\n",
    "import pandas as pd"
   ]
  },
  {
   "cell_type": "code",
   "execution_count": 58,
   "metadata": {},
   "outputs": [
    {
     "name": "stdout",
     "output_type": "stream",
     "text": [
      "X:\n",
      "0    10\n",
      "1    20\n",
      "2    30\n",
      "3    40\n",
      "dtype: int64\n"
     ]
    }
   ],
   "source": [
    "x = pd.Series([10, 20, 30, 40])\n",
    "print(f\"X:\\n{x}\")"
   ]
  },
  {
   "cell_type": "code",
   "execution_count": 59,
   "metadata": {},
   "outputs": [
    {
     "name": "stdout",
     "output_type": "stream",
     "text": [
      "0    False\n",
      "1    False\n",
      "2     True\n",
      "3     True\n",
      "dtype: bool\n"
     ]
    }
   ],
   "source": [
    "print(x > 20)"
   ]
  },
  {
   "cell_type": "code",
   "execution_count": 60,
   "metadata": {},
   "outputs": [
    {
     "name": "stdout",
     "output_type": "stream",
     "text": [
      "2    30\n",
      "3    40\n",
      "dtype: int64\n"
     ]
    }
   ],
   "source": [
    "print(x.loc[x > 20])"
   ]
  },
  {
   "cell_type": "markdown",
   "metadata": {},
   "source": [
    "Returns different values that aret neccearily true because we created the original mask \n",
    "prior to switching the indices of `x`\n",
    "\n",
    "Indexing the series, `x`, with `mask`, returns the indices of the array `x` that correspond with\n",
    "the indices of True in `mask`. Not the position, but the indices. Given that we adjust the\n",
    "indices of `x`, this returns unexpected values."
   ]
  },
  {
   "cell_type": "code",
   "execution_count": 61,
   "metadata": {},
   "outputs": [
    {
     "name": "stdout",
     "output_type": "stream",
     "text": [
      "X:\n",
      "0    10\n",
      "3    20\n",
      "1    30\n",
      "2    40\n",
      "dtype: int64\n",
      "\n",
      "Mask:\n",
      "0    False\n",
      "1    False\n",
      "2     True\n",
      "3     True\n",
      "dtype: bool\n",
      "\n",
      "Greater than 20:\n",
      "3    20\n",
      "2    40\n",
      "dtype: int64\n"
     ]
    }
   ],
   "source": [
    "mask = x > 20\n",
    "x.index = [0, 3, 1, 2]\n",
    "\n",
    "print(f\"X:\\n{x}\\n\")\n",
    "print(f\"Mask:\\n{mask}\\n\")\n",
    "print(f\"Greater than 20:\\n{x.loc[mask]}\")"
   ]
  },
  {
   "cell_type": "code",
   "execution_count": 62,
   "metadata": {},
   "outputs": [
    {
     "name": "stdout",
     "output_type": "stream",
     "text": [
      "lois      female\n",
      "meg       female\n",
      "chris       male\n",
      "peter       male\n",
      "stewie      male\n",
      "dtype: string\n",
      "\n",
      "peter     42\n",
      "lois      43\n",
      "chris     14\n",
      "meg       18\n",
      "stewie     1\n",
      "dtype: int64\n"
     ]
    }
   ],
   "source": [
    "genders = pd.Series(\n",
    "    data = ['female', 'female', 'male', 'male', 'male'],\n",
    "    index = ['lois', 'meg', 'chris', 'peter', 'stewie'],\n",
    "    dtype = 'string'\n",
    ")\n",
    "\n",
    "ages = pd.Series(\n",
    "    data = [42, 43, 14, 18, 1],\n",
    "    index = ['peter', 'lois', 'chris', 'meg', 'stewie']\n",
    ")\n",
    "print(genders)\n",
    "print()\n",
    "print(ages)"
   ]
  },
  {
   "cell_type": "code",
   "execution_count": 63,
   "metadata": {},
   "outputs": [
    {
     "name": "stdout",
     "output_type": "stream",
     "text": [
      "MASK:\n",
      "chris     0.0\n",
      "lois      1.0\n",
      "meg       0.0\n",
      "peter     0.0\n",
      "stewie    0.0\n",
      "dtype: float64\n",
      "\n",
      "Indexed Mask:\n",
      "lois    True\n",
      "dtype: bool\n"
     ]
    },
    {
     "name": "stderr",
     "output_type": "stream",
     "text": [
      "/var/folders/48/l60ld_dj1kggcvhp0rsys4qm0000gn/T/ipykernel_38605/2129956739.py:1: FutureWarning: Operation between non boolean Series with different indexes will no longer return a boolean result in a future version. Cast both Series to object type to maintain the prior behavior.\n",
      "  mask = (genders == 'female') & (ages > 30)\n"
     ]
    }
   ],
   "source": [
    "mask = (genders == 'female') & (ages > 30)\n",
    "\n",
    "# need parenthesis since & high has a higher operator precedence than `==` or `>`\n",
    "\n",
    "print(f\"MASK:\\n{mask.astype(float)}\\n\")\n",
    "print(f\"Indexed Mask:\\n{mask.loc[mask]}\")\n",
    "\n",
    "# masks only work with `Series.loc`. \n",
    "# creating a mask creates a series where True and False values are associated with their own indices\n",
    "# therefore, you can index with those corresponding indices. Using `.iloc` wouldn't work as \n",
    "# you need to index using true positions, which boolean masks don't have."
   ]
  },
  {
   "cell_type": "code",
   "execution_count": 69,
   "metadata": {},
   "outputs": [
    {
     "name": "stdout",
     "output_type": "stream",
     "text": [
      "peter    42\n",
      "chris    14\n",
      "dtype: int64\n"
     ]
    }
   ],
   "source": [
    "# this one works because we're indexing using positional indices, not a boolean mask\n",
    "\n",
    "mask = pd.Series([0, 2])\n",
    "print(ages.iloc[mask])"
   ]
  },
  {
   "cell_type": "markdown",
   "metadata": {},
   "source": [
    "TAKEAWAY is that you can only use .iloc for true index positions, including pd.Series with those positions.\n",
    "\n",
    "You can only use boolean masks with `.loc`. .loc also accepts masks of pandas indices, but won't work with positional indices"
   ]
  },
  {
   "cell_type": "code",
   "execution_count": null,
   "metadata": {},
   "outputs": [],
   "source": []
  },
  {
   "cell_type": "code",
   "execution_count": null,
   "metadata": {},
   "outputs": [],
   "source": []
  }
 ],
 "metadata": {
  "kernelspec": {
   "display_name": "base",
   "language": "python",
   "name": "python3"
  },
  "language_info": {
   "codemirror_mode": {
    "name": "ipython",
    "version": 3
   },
   "file_extension": ".py",
   "mimetype": "text/x-python",
   "name": "python",
   "nbconvert_exporter": "python",
   "pygments_lexer": "ipython3",
   "version": "3.12.2"
  }
 },
 "nbformat": 4,
 "nbformat_minor": 2
}
