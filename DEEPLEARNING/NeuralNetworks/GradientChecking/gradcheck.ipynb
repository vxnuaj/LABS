{
 "cells": [
  {
   "cell_type": "code",
   "execution_count": 9,
   "metadata": {},
   "outputs": [],
   "source": [
    "import numpy as np\n",
    "import pandas as pd\n",
    "from GradientChecking.gradcheckLinear import forward, backward, load_model, one_hot"
   ]
  },
  {
   "cell_type": "code",
   "execution_count": 10,
   "metadata": {},
   "outputs": [
    {
     "name": "stdout",
     "output_type": "stream",
     "text": [
      "(784, 60000)\n",
      "(1, 60000)\n"
     ]
    }
   ],
   "source": [
    "data = pd.read_csv('data/fashion-mnist_train.csv')\n",
    "data = np.array(data)\n",
    "\n",
    "X_train = data[:, 1:785].T / 255\n",
    "Y_train = data[:, 0].reshape(1, -1)\n",
    "\n",
    "one_hot_y = one_hot(Y_train)\n",
    "\n",
    "print(X_train.shape)\n",
    "print(Y_train.shape)\n"
   ]
  },
  {
   "cell_type": "code",
   "execution_count": 11,
   "metadata": {},
   "outputs": [],
   "source": [
    "def cce(one_hot_y, a):\n",
    "    eps = 1e-10\n",
    "    l = - np.sum((one_hot_y * np.log(a + eps)))  / 60000\n",
    "    return l"
   ]
  },
  {
   "cell_type": "code",
   "execution_count": 12,
   "metadata": {},
   "outputs": [
    {
     "name": "stdout",
     "output_type": "stream",
     "text": [
      "File not found, initializing new model!\n"
     ]
    }
   ],
   "source": [
    "file = 'models/gradchnn.pkl'\n",
    "\n",
    "w1, b1, w2, b2 = load_model(file)\n",
    "\n",
    "eps = 1e-7\n",
    "\n",
    "w1plus = w1 + eps\n",
    "b1plus = b1 + eps\n",
    "w2plus = w2 + eps\n",
    "b2plus = b2 + eps\n",
    "\n",
    "w1minus = w1 - eps\n",
    "b1minus = b1 - eps\n",
    "w2minus = w2 - eps\n",
    "b2minus = b2 - eps\n",
    "\n",
    "z1, a1, z2, a2 = forward(X_train, w1, b1, w2, b2)\n",
    "dw1, db1, dw2, db2 = backward(X_train, one_hot_y, w2, a2, a1, z1)\n"
   ]
  },
  {
   "cell_type": "markdown",
   "metadata": {},
   "source": [
    "### COMPUTING FOR W2"
   ]
  },
  {
   "cell_type": "code",
   "execution_count": 18,
   "metadata": {},
   "outputs": [
    {
     "name": "stdout",
     "output_type": "stream",
     "text": [
      "2.344594033720181\n",
      "2.344594033720181\n",
      "0.0\n"
     ]
    },
    {
     "ename": "ValueError",
     "evalue": "Improper number of dimensions to norm.",
     "output_type": "error",
     "traceback": [
      "\u001b[0;31m---------------------------------------------------------------------------\u001b[0m",
      "\u001b[0;31mValueError\u001b[0m                                Traceback (most recent call last)",
      "Cell \u001b[0;32mIn[18], line 14\u001b[0m\n\u001b[1;32m     10\u001b[0m dw2_approx \u001b[38;5;241m=\u001b[39m (loss_plus \u001b[38;5;241m-\u001b[39m loss_minus) \u001b[38;5;241m/\u001b[39m (\u001b[38;5;241m2\u001b[39m \u001b[38;5;241m*\u001b[39m eps) \n\u001b[1;32m     12\u001b[0m \u001b[38;5;28mprint\u001b[39m(dw2_approx)\n\u001b[0;32m---> 14\u001b[0m check \u001b[38;5;241m=\u001b[39m np\u001b[38;5;241m.\u001b[39mlinalg\u001b[38;5;241m.\u001b[39mnorm(dw2_approx \u001b[38;5;241m-\u001b[39m dw2, \u001b[38;5;28mord\u001b[39m \u001b[38;5;241m=\u001b[39m \u001b[38;5;241m2\u001b[39m) \u001b[38;5;241m/\u001b[39m (\u001b[43mnp\u001b[49m\u001b[38;5;241;43m.\u001b[39;49m\u001b[43mlinalg\u001b[49m\u001b[38;5;241;43m.\u001b[39;49m\u001b[43mnorm\u001b[49m\u001b[43m(\u001b[49m\u001b[43mdw2_approx\u001b[49m\u001b[43m,\u001b[49m\u001b[43m \u001b[49m\u001b[38;5;28;43mord\u001b[39;49m\u001b[43m \u001b[49m\u001b[38;5;241;43m=\u001b[39;49m\u001b[43m \u001b[49m\u001b[38;5;241;43m2\u001b[39;49m\u001b[43m)\u001b[49m \u001b[38;5;241m-\u001b[39m np\u001b[38;5;241m.\u001b[39mlinalg\u001b[38;5;241m.\u001b[39mnorm(dw2, \u001b[38;5;28mord\u001b[39m \u001b[38;5;241m=\u001b[39m \u001b[38;5;241m2\u001b[39m))\n\u001b[1;32m     16\u001b[0m \u001b[38;5;28mprint\u001b[39m(check)\n",
      "File \u001b[0;32m/opt/miniconda3/lib/python3.12/site-packages/numpy/linalg/linalg.py:2633\u001b[0m, in \u001b[0;36mnorm\u001b[0;34m(x, ord, axis, keepdims)\u001b[0m\n\u001b[1;32m   2631\u001b[0m     \u001b[38;5;28;01mreturn\u001b[39;00m ret\n\u001b[1;32m   2632\u001b[0m \u001b[38;5;28;01melse\u001b[39;00m:\n\u001b[0;32m-> 2633\u001b[0m     \u001b[38;5;28;01mraise\u001b[39;00m \u001b[38;5;167;01mValueError\u001b[39;00m(\u001b[38;5;124m\"\u001b[39m\u001b[38;5;124mImproper number of dimensions to norm.\u001b[39m\u001b[38;5;124m\"\u001b[39m)\n",
      "\u001b[0;31mValueError\u001b[0m: Improper number of dimensions to norm."
     ]
    }
   ],
   "source": [
    "\n",
    "_, _, _, a2plus = forward(X_train, w1, b1, w2plus, b2)\n",
    "_, _, _, a2minus = forward(X_train, w1, b1, w2minus, b2)\n",
    "\n",
    "loss_plus = cce(one_hot_y, a2plus)\n",
    "loss_minus = cce(one_hot_y, a2minus)\n",
    "\n",
    "dw2_approx = (loss_plus - loss_minus) / (2 * eps) "
   ]
  },
  {
   "cell_type": "code",
   "execution_count": 20,
   "metadata": {},
   "outputs": [
    {
     "name": "stdout",
     "output_type": "stream",
     "text": [
      "File not found, initializing new model!\n",
      "Gradient Check Difference: 0.8824646616927213\n"
     ]
    }
   ],
   "source": []
  }
 ],
 "metadata": {
  "kernelspec": {
   "display_name": "base",
   "language": "python",
   "name": "python3"
  },
  "language_info": {
   "codemirror_mode": {
    "name": "ipython",
    "version": 3
   },
   "file_extension": ".py",
   "mimetype": "text/x-python",
   "name": "python",
   "nbconvert_exporter": "python",
   "pygments_lexer": "ipython3",
   "version": "3.12.2"
  }
 },
 "nbformat": 4,
 "nbformat_minor": 2
}
