{
 "cells": [
  {
   "cell_type": "code",
   "execution_count": 2,
   "metadata": {},
   "outputs": [],
   "source": [
    "import numpy as np"
   ]
  },
  {
   "cell_type": "markdown",
   "metadata": {},
   "source": [
    "MSE"
   ]
  },
  {
   "cell_type": "code",
   "execution_count": 48,
   "metadata": {},
   "outputs": [
    {
     "name": "stdout",
     "output_type": "stream",
     "text": [
      "MSE: 21.405181226232013\n",
      "MSE DERIVATIVE: -4.137603155678275\n"
     ]
    }
   ],
   "source": [
    "y_train = np.random.randn(10, 10) # 10 samples, 10 features\n",
    "y_pred = np.random.randn(10, 10)\n",
    "\n",
    "samples = 10\n",
    "\n",
    "MSE = np.sum((y_train - y_pred)**2) * (1 / samples)\n",
    "MSE_deriv = np.sum(((y_train - y_pred))) * (-2 / samples)\n",
    "\n",
    "\n",
    "print(f\"MSE: {MSE}\")\n",
    "print(f\"MSE DERIVATIVE: {MSE_deriv}\")"
   ]
  },
  {
   "cell_type": "markdown",
   "metadata": {},
   "source": [
    "MAE"
   ]
  },
  {
   "cell_type": "code",
   "execution_count": 94,
   "metadata": {},
   "outputs": [
    {
     "name": "stdout",
     "output_type": "stream",
     "text": [
      "MAE: 12.150039835491533\n",
      "MAE DERIVATIVE: 0.2\n"
     ]
    }
   ],
   "source": [
    "y_train = np.random.randn(10, 10) # 10 samples, 10 features\n",
    "y_pred = np.random.randn(10, 10)\n",
    "\n",
    "samples = 10\n",
    "\n",
    "MAE = (1 / samples) * np.sum(np.abs(y_train - y_pred))\n",
    "MAE_deriv = (1 / samples) * np.sum(np.sign(y_train - y_pred))\n",
    "\n",
    "\n",
    "print(f\"MAE: {MAE}\")\n",
    "print(f\"MAE DERIVATIVE: {MAE_deriv}\")"
   ]
  }
 ],
 "metadata": {
  "kernelspec": {
   "display_name": "base",
   "language": "python",
   "name": "python3"
  },
  "language_info": {
   "codemirror_mode": {
    "name": "ipython",
    "version": 3
   },
   "file_extension": ".py",
   "mimetype": "text/x-python",
   "name": "python",
   "nbconvert_exporter": "python",
   "pygments_lexer": "ipython3",
   "version": "3.12.2"
  }
 },
 "nbformat": 4,
 "nbformat_minor": 2
}
