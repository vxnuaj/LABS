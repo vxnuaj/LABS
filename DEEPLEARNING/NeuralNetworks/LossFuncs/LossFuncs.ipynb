{
 "cells": [
  {
   "cell_type": "code",
   "execution_count": 4,
   "metadata": {},
   "outputs": [],
   "source": [
    "import numpy as np\n",
    "import pandas as pd"
   ]
  },
  {
   "cell_type": "markdown",
   "metadata": {},
   "source": [
    "## NOTE: DIMS OF Y_TRAIN / Y_PRED ARE WRONG. JUST USED THOSE DIMS FOR TESTING PURPOSES\n",
    "\n",
    "in a real scenairo, would not be that."
   ]
  },
  {
   "cell_type": "markdown",
   "metadata": {},
   "source": [
    "MSE"
   ]
  },
  {
   "cell_type": "code",
   "execution_count": 48,
   "metadata": {},
   "outputs": [
    {
     "name": "stdout",
     "output_type": "stream",
     "text": [
      "MSE: 21.405181226232013\n",
      "MSE DERIVATIVE: -4.137603155678275\n"
     ]
    }
   ],
   "source": [
    "y_train = np.random.randn(10, 10) # 10 samples, 10 features\n",
    "y_pred = np.random.randn(10, 10)\n",
    "\n",
    "samples = 10\n",
    "\n",
    "MSE = np.sum((y_train - y_pred)**2) * (1 / samples)\n",
    "MSE_deriv = np.sum(((y_train - y_pred))) * (-2 / samples)\n",
    "\n",
    "\n",
    "print(f\"MSE: {MSE}\")\n",
    "print(f\"MSE DERIVATIVE: {MSE_deriv}\")"
   ]
  },
  {
   "cell_type": "markdown",
   "metadata": {},
   "source": [
    "MAE"
   ]
  },
  {
   "cell_type": "code",
   "execution_count": 94,
   "metadata": {},
   "outputs": [
    {
     "name": "stdout",
     "output_type": "stream",
     "text": [
      "MAE: 12.150039835491533\n",
      "MAE DERIVATIVE: 0.2\n"
     ]
    }
   ],
   "source": [
    "y_train = np.random.randn(10, 10) # 10 samples, 10 features\n",
    "y_pred = np.random.randn(10, 10)\n",
    "\n",
    "samples = 10\n",
    "\n",
    "MAE = (1 / samples) * np.sum(np.abs(y_train - y_pred))\n",
    "MAE_deriv = (1 / samples) * np.sum(np.sign(y_train - y_pred))\n",
    "\n",
    "\n",
    "print(f\"MAE: {MAE}\")\n",
    "print(f\"MAE DERIVATIVE: {MAE_deriv}\")"
   ]
  },
  {
   "cell_type": "markdown",
   "metadata": {},
   "source": [
    "Binary Cross Entropy Loss\n",
    "\n",
    "$BCE = -\\frac{1}{m} \\sum Y * \\log(\\hat{Y}) + ( 1 - Y) * \\log(1 - \\hat{Y})$, $m = numsamples$"
   ]
  },
  {
   "cell_type": "code",
   "execution_count": 11,
   "metadata": {},
   "outputs": [
    {
     "name": "stdout",
     "output_type": "stream",
     "text": [
      "BCE: 1.0704242936177335\n"
     ]
    }
   ],
   "source": [
    "y_train = [0, 1 , 1, 0, 0, 1, 1, 1, 0, 1]\n",
    "y_train = np.array(y_train)\n",
    "\n",
    "y_pred = np.random.rand(1, 10)\n",
    "\n",
    "m = 10\n",
    "eps = 1e-10\n",
    "\n",
    "bce_loss = - (1/m) * np.sum(y_train * np.log(y_pred + eps) + (1 - y_train) * np.log(1 - y_pred + eps))\n",
    "\n",
    "print(f\"BCE: {bce_loss}\")"
   ]
  },
  {
   "cell_type": "markdown",
   "metadata": {},
   "source": [
    "CCE"
   ]
  },
  {
   "cell_type": "code",
   "execution_count": 8,
   "metadata": {},
   "outputs": [
    {
     "name": "stdout",
     "output_type": "stream",
     "text": [
      "CCE: 2.1404662435176105\n"
     ]
    }
   ],
   "source": [
    "num_classes = 3\n",
    "num_samples = 5\n",
    "y_train = np.array([\n",
    "    [1, 0, 0],  # Sample 1: Class 0\n",
    "    [0, 1, 0],  # Sample 2: Class 1\n",
    "    [0, 0, 1],  # Sample 3: Class 2\n",
    "    [1, 0, 0],  # Sample 4: Class 0\n",
    "    [0, 0, 1]   # Sample 5: Class 2\n",
    "])\n",
    "\n",
    "\n",
    "y_pred = np.array([\n",
    "    [0.7, 0.2, 0.1],  # Sample 1: Class 0 with high probability\n",
    "    [0.1, 0.8, 0.1],  # Sample 2: Class 1 with high probability\n",
    "    [0.2, 0.3, 0.5],  # Sample 3: Class 2 with highest probability\n",
    "    [0.6, 0.3, 0.1],  # Sample 4: Class 0 with high probability\n",
    "    [0.1, 0.2, 0.7]   # Sample 5: Class 2 with highest probability\n",
    "])\n",
    "\n",
    "CCE = - np.sum(y_train * np.log(y_pred))\n",
    "\n",
    "print(f\"CCE: {CCE}\")"
   ]
  },
  {
   "cell_type": "markdown",
   "metadata": {},
   "source": [
    "SCE"
   ]
  },
  {
   "cell_type": "code",
   "execution_count": 9,
   "metadata": {},
   "outputs": [
    {
     "name": "stdout",
     "output_type": "stream",
     "text": [
      "sce: 0.4280932487035221\n"
     ]
    }
   ],
   "source": [
    "num_classes = 3\n",
    "num_samples = 5\n",
    "y_train = np.array([\n",
    "    [1, 0, 0],  # Sample 1: Class 0\n",
    "    [0, 1, 0],  # Sample 2: Class 1\n",
    "    [0, 0, 1],  # Sample 3: Class 2\n",
    "    [1, 0, 0],  # Sample 4: Class 0\n",
    "    [0, 0, 1]   # Sample 5: Class 2\n",
    "])\n",
    "\n",
    "\n",
    "y_pred = np.array([\n",
    "    [0.7, 0.2, 0.1],  # Sample 1: Class 0 with high probability\n",
    "    [0.1, 0.8, 0.1],  # Sample 2: Class 1 with high probability\n",
    "    [0.2, 0.3, 0.5],  # Sample 3: Class 2 with highest probability\n",
    "    [0.6, 0.3, 0.1],  # Sample 4: Class 0 with high probability\n",
    "    [0.1, 0.2, 0.7]   # Sample 5: Class 2 with highest probability\n",
    "])\n",
    "\n",
    "def smoothed_hot(one_hot_y, alpha, classes):\n",
    "    sce = one_hot_y * (1 - alpha) + (alpha / classes)\n",
    "    return sce\n",
    "\n",
    "smth_hot = smoothed_hot(y_train, .05, 10)\n",
    "\n",
    "sce = -(1 / 5) * np.sum(y_train * np.log(y_pred))\n",
    "\n",
    "print(f\"sce: {sce}\")\n"
   ]
  },
  {
   "cell_type": "markdown",
   "metadata": {},
   "source": [
    "Sparse Entropy\n",
    "\n",
    ">_The implementation is wrong. Or at least not working. Need to fix this_"
   ]
  },
  {
   "cell_type": "code",
   "execution_count": 7,
   "metadata": {},
   "outputs": [
    {
     "name": "stdout",
     "output_type": "stream",
     "text": [
      "103.74174658564566\n"
     ]
    }
   ],
   "source": [
    "from sparse import forward, init_params\n",
    "\n",
    "data = pd.read_csv('data/fashion-mnist_train.csv') # 900 samples, 7 Features\n",
    "\n",
    "data = np.array(data) #60000, 785\n",
    "\n",
    "X_train = data[:, 1:785].T / 255 #784, 60000\n",
    "Y_train = data[:, 0].reshape(1, -1) #1, 60000\n",
    "\n",
    "w1, b1, w2, b2 = init_params()\n",
    "z1, a1, z2, a2 = forward(X_train, w1, b1, w2, b2)\n",
    "\n",
    "eps = 1e-10\n",
    "l = - np.sum(Y_train* np.log(a2 + eps)) / 60000\n",
    "\n",
    "print(l)\n"
   ]
  }
 ],
 "metadata": {
  "kernelspec": {
   "display_name": "base",
   "language": "python",
   "name": "python3"
  },
  "language_info": {
   "codemirror_mode": {
    "name": "ipython",
    "version": 3
   },
   "file_extension": ".py",
   "mimetype": "text/x-python",
   "name": "python",
   "nbconvert_exporter": "python",
   "pygments_lexer": "ipython3",
   "version": "3.12.2"
  }
 },
 "nbformat": 4,
 "nbformat_minor": 2
}
