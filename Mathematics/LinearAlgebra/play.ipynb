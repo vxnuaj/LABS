{
 "cells": [
  {
   "cell_type": "code",
   "execution_count": 3,
   "metadata": {},
   "outputs": [
    {
     "name": "stdout",
     "output_type": "stream",
     "text": [
      "0.1360059927802895\n"
     ]
    }
   ],
   "source": [
    "import numpy as np\n",
    "\n",
    "\n",
    "v = np.random.randn(3, 1)\n",
    "v_norm = np.linalg.norm(v, ord = 2)\n",
    "u = v / v_norm\n",
    "\n",
    "V = np.random.randn(3, 30)\n",
    "V_norm = np.linalg.norm(V, ord = 2)\n",
    "U = V / V_norm\n",
    "\n",
    "ans = np.abs(np.dot(u.T, U))\n",
    "\n",
    "print(np.mean(ans))"
   ]
  }
 ],
 "metadata": {
  "kernelspec": {
   "display_name": "base",
   "language": "python",
   "name": "python3"
  },
  "language_info": {
   "codemirror_mode": {
    "name": "ipython",
    "version": 3
   },
   "file_extension": ".py",
   "mimetype": "text/x-python",
   "name": "python",
   "nbconvert_exporter": "python",
   "pygments_lexer": "ipython3",
   "version": "3.12.2"
  }
 },
 "nbformat": 4,
 "nbformat_minor": 2
}
